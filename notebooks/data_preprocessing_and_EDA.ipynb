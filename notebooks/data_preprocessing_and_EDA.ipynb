{
 "cells": [
  {
   "cell_type": "markdown",
   "id": "f4e91de5",
   "metadata": {},
   "source": [
    "### Data Overview"
   ]
  },
  {
   "cell_type": "code",
   "execution_count": 119,
   "id": "5a0c16e3",
   "metadata": {},
   "outputs": [
    {
     "name": "stdout",
     "output_type": "stream",
     "text": [
      "(45211, 17)\n"
     ]
    }
   ],
   "source": [
    "import pandas as pd\n",
    "\n",
    "df = pd.read_csv(\"app/bank-full.csv\",delimiter=';')\n",
    "print(df.shape)"
   ]
  },
  {
   "cell_type": "code",
   "execution_count": 120,
   "id": "bae87544",
   "metadata": {},
   "outputs": [
    {
     "name": "stdout",
     "output_type": "stream",
     "text": [
      "<class 'pandas.core.frame.DataFrame'>\n",
      "RangeIndex: 45211 entries, 0 to 45210\n",
      "Data columns (total 17 columns):\n",
      " #   Column     Non-Null Count  Dtype \n",
      "---  ------     --------------  ----- \n",
      " 0   age        45211 non-null  int64 \n",
      " 1   job        45211 non-null  object\n",
      " 2   marital    45211 non-null  object\n",
      " 3   education  45211 non-null  object\n",
      " 4   default    45211 non-null  object\n",
      " 5   balance    45211 non-null  int64 \n",
      " 6   housing    45211 non-null  object\n",
      " 7   loan       45211 non-null  object\n",
      " 8   contact    45211 non-null  object\n",
      " 9   day        45211 non-null  int64 \n",
      " 10  month      45211 non-null  object\n",
      " 11  duration   45211 non-null  int64 \n",
      " 12  campaign   45211 non-null  int64 \n",
      " 13  pdays      45211 non-null  int64 \n",
      " 14  previous   45211 non-null  int64 \n",
      " 15  poutcome   45211 non-null  object\n",
      " 16  y          45211 non-null  object\n",
      "dtypes: int64(7), object(10)\n",
      "memory usage: 5.9+ MB\n"
     ]
    }
   ],
   "source": [
    "df.info()"
   ]
  },
  {
   "cell_type": "code",
   "execution_count": 121,
   "id": "86c4cb90",
   "metadata": {},
   "outputs": [
    {
     "data": {
      "text/html": [
       "<div>\n",
       "<style scoped>\n",
       "    .dataframe tbody tr th:only-of-type {\n",
       "        vertical-align: middle;\n",
       "    }\n",
       "\n",
       "    .dataframe tbody tr th {\n",
       "        vertical-align: top;\n",
       "    }\n",
       "\n",
       "    .dataframe thead th {\n",
       "        text-align: right;\n",
       "    }\n",
       "</style>\n",
       "<table border=\"1\" class=\"dataframe\">\n",
       "  <thead>\n",
       "    <tr style=\"text-align: right;\">\n",
       "      <th></th>\n",
       "      <th>age</th>\n",
       "      <th>job</th>\n",
       "      <th>marital</th>\n",
       "      <th>education</th>\n",
       "      <th>default</th>\n",
       "      <th>balance</th>\n",
       "      <th>housing</th>\n",
       "      <th>loan</th>\n",
       "      <th>contact</th>\n",
       "      <th>day</th>\n",
       "      <th>month</th>\n",
       "      <th>duration</th>\n",
       "      <th>campaign</th>\n",
       "      <th>pdays</th>\n",
       "      <th>previous</th>\n",
       "      <th>poutcome</th>\n",
       "      <th>y</th>\n",
       "    </tr>\n",
       "  </thead>\n",
       "  <tbody>\n",
       "    <tr>\n",
       "      <th>count</th>\n",
       "      <td>45211.000000</td>\n",
       "      <td>45211</td>\n",
       "      <td>45211</td>\n",
       "      <td>45211</td>\n",
       "      <td>45211</td>\n",
       "      <td>45211.000000</td>\n",
       "      <td>45211</td>\n",
       "      <td>45211</td>\n",
       "      <td>45211</td>\n",
       "      <td>45211.000000</td>\n",
       "      <td>45211</td>\n",
       "      <td>45211.000000</td>\n",
       "      <td>45211.000000</td>\n",
       "      <td>45211.000000</td>\n",
       "      <td>45211.000000</td>\n",
       "      <td>45211</td>\n",
       "      <td>45211</td>\n",
       "    </tr>\n",
       "    <tr>\n",
       "      <th>unique</th>\n",
       "      <td>NaN</td>\n",
       "      <td>12</td>\n",
       "      <td>3</td>\n",
       "      <td>4</td>\n",
       "      <td>2</td>\n",
       "      <td>NaN</td>\n",
       "      <td>2</td>\n",
       "      <td>2</td>\n",
       "      <td>3</td>\n",
       "      <td>NaN</td>\n",
       "      <td>12</td>\n",
       "      <td>NaN</td>\n",
       "      <td>NaN</td>\n",
       "      <td>NaN</td>\n",
       "      <td>NaN</td>\n",
       "      <td>4</td>\n",
       "      <td>2</td>\n",
       "    </tr>\n",
       "    <tr>\n",
       "      <th>top</th>\n",
       "      <td>NaN</td>\n",
       "      <td>blue-collar</td>\n",
       "      <td>married</td>\n",
       "      <td>secondary</td>\n",
       "      <td>no</td>\n",
       "      <td>NaN</td>\n",
       "      <td>yes</td>\n",
       "      <td>no</td>\n",
       "      <td>cellular</td>\n",
       "      <td>NaN</td>\n",
       "      <td>may</td>\n",
       "      <td>NaN</td>\n",
       "      <td>NaN</td>\n",
       "      <td>NaN</td>\n",
       "      <td>NaN</td>\n",
       "      <td>unknown</td>\n",
       "      <td>no</td>\n",
       "    </tr>\n",
       "    <tr>\n",
       "      <th>freq</th>\n",
       "      <td>NaN</td>\n",
       "      <td>9732</td>\n",
       "      <td>27214</td>\n",
       "      <td>23202</td>\n",
       "      <td>44396</td>\n",
       "      <td>NaN</td>\n",
       "      <td>25130</td>\n",
       "      <td>37967</td>\n",
       "      <td>29285</td>\n",
       "      <td>NaN</td>\n",
       "      <td>13766</td>\n",
       "      <td>NaN</td>\n",
       "      <td>NaN</td>\n",
       "      <td>NaN</td>\n",
       "      <td>NaN</td>\n",
       "      <td>36959</td>\n",
       "      <td>39922</td>\n",
       "    </tr>\n",
       "    <tr>\n",
       "      <th>mean</th>\n",
       "      <td>40.936210</td>\n",
       "      <td>NaN</td>\n",
       "      <td>NaN</td>\n",
       "      <td>NaN</td>\n",
       "      <td>NaN</td>\n",
       "      <td>1362.272058</td>\n",
       "      <td>NaN</td>\n",
       "      <td>NaN</td>\n",
       "      <td>NaN</td>\n",
       "      <td>15.806419</td>\n",
       "      <td>NaN</td>\n",
       "      <td>258.163080</td>\n",
       "      <td>2.763841</td>\n",
       "      <td>40.197828</td>\n",
       "      <td>0.580323</td>\n",
       "      <td>NaN</td>\n",
       "      <td>NaN</td>\n",
       "    </tr>\n",
       "    <tr>\n",
       "      <th>std</th>\n",
       "      <td>10.618762</td>\n",
       "      <td>NaN</td>\n",
       "      <td>NaN</td>\n",
       "      <td>NaN</td>\n",
       "      <td>NaN</td>\n",
       "      <td>3044.765829</td>\n",
       "      <td>NaN</td>\n",
       "      <td>NaN</td>\n",
       "      <td>NaN</td>\n",
       "      <td>8.322476</td>\n",
       "      <td>NaN</td>\n",
       "      <td>257.527812</td>\n",
       "      <td>3.098021</td>\n",
       "      <td>100.128746</td>\n",
       "      <td>2.303441</td>\n",
       "      <td>NaN</td>\n",
       "      <td>NaN</td>\n",
       "    </tr>\n",
       "    <tr>\n",
       "      <th>min</th>\n",
       "      <td>18.000000</td>\n",
       "      <td>NaN</td>\n",
       "      <td>NaN</td>\n",
       "      <td>NaN</td>\n",
       "      <td>NaN</td>\n",
       "      <td>-8019.000000</td>\n",
       "      <td>NaN</td>\n",
       "      <td>NaN</td>\n",
       "      <td>NaN</td>\n",
       "      <td>1.000000</td>\n",
       "      <td>NaN</td>\n",
       "      <td>0.000000</td>\n",
       "      <td>1.000000</td>\n",
       "      <td>-1.000000</td>\n",
       "      <td>0.000000</td>\n",
       "      <td>NaN</td>\n",
       "      <td>NaN</td>\n",
       "    </tr>\n",
       "    <tr>\n",
       "      <th>25%</th>\n",
       "      <td>33.000000</td>\n",
       "      <td>NaN</td>\n",
       "      <td>NaN</td>\n",
       "      <td>NaN</td>\n",
       "      <td>NaN</td>\n",
       "      <td>72.000000</td>\n",
       "      <td>NaN</td>\n",
       "      <td>NaN</td>\n",
       "      <td>NaN</td>\n",
       "      <td>8.000000</td>\n",
       "      <td>NaN</td>\n",
       "      <td>103.000000</td>\n",
       "      <td>1.000000</td>\n",
       "      <td>-1.000000</td>\n",
       "      <td>0.000000</td>\n",
       "      <td>NaN</td>\n",
       "      <td>NaN</td>\n",
       "    </tr>\n",
       "    <tr>\n",
       "      <th>50%</th>\n",
       "      <td>39.000000</td>\n",
       "      <td>NaN</td>\n",
       "      <td>NaN</td>\n",
       "      <td>NaN</td>\n",
       "      <td>NaN</td>\n",
       "      <td>448.000000</td>\n",
       "      <td>NaN</td>\n",
       "      <td>NaN</td>\n",
       "      <td>NaN</td>\n",
       "      <td>16.000000</td>\n",
       "      <td>NaN</td>\n",
       "      <td>180.000000</td>\n",
       "      <td>2.000000</td>\n",
       "      <td>-1.000000</td>\n",
       "      <td>0.000000</td>\n",
       "      <td>NaN</td>\n",
       "      <td>NaN</td>\n",
       "    </tr>\n",
       "    <tr>\n",
       "      <th>75%</th>\n",
       "      <td>48.000000</td>\n",
       "      <td>NaN</td>\n",
       "      <td>NaN</td>\n",
       "      <td>NaN</td>\n",
       "      <td>NaN</td>\n",
       "      <td>1428.000000</td>\n",
       "      <td>NaN</td>\n",
       "      <td>NaN</td>\n",
       "      <td>NaN</td>\n",
       "      <td>21.000000</td>\n",
       "      <td>NaN</td>\n",
       "      <td>319.000000</td>\n",
       "      <td>3.000000</td>\n",
       "      <td>-1.000000</td>\n",
       "      <td>0.000000</td>\n",
       "      <td>NaN</td>\n",
       "      <td>NaN</td>\n",
       "    </tr>\n",
       "    <tr>\n",
       "      <th>max</th>\n",
       "      <td>95.000000</td>\n",
       "      <td>NaN</td>\n",
       "      <td>NaN</td>\n",
       "      <td>NaN</td>\n",
       "      <td>NaN</td>\n",
       "      <td>102127.000000</td>\n",
       "      <td>NaN</td>\n",
       "      <td>NaN</td>\n",
       "      <td>NaN</td>\n",
       "      <td>31.000000</td>\n",
       "      <td>NaN</td>\n",
       "      <td>4918.000000</td>\n",
       "      <td>63.000000</td>\n",
       "      <td>871.000000</td>\n",
       "      <td>275.000000</td>\n",
       "      <td>NaN</td>\n",
       "      <td>NaN</td>\n",
       "    </tr>\n",
       "  </tbody>\n",
       "</table>\n",
       "</div>"
      ],
      "text/plain": [
       "                 age          job  marital  education default        balance  \\\n",
       "count   45211.000000        45211    45211      45211   45211   45211.000000   \n",
       "unique           NaN           12        3          4       2            NaN   \n",
       "top              NaN  blue-collar  married  secondary      no            NaN   \n",
       "freq             NaN         9732    27214      23202   44396            NaN   \n",
       "mean       40.936210          NaN      NaN        NaN     NaN    1362.272058   \n",
       "std        10.618762          NaN      NaN        NaN     NaN    3044.765829   \n",
       "min        18.000000          NaN      NaN        NaN     NaN   -8019.000000   \n",
       "25%        33.000000          NaN      NaN        NaN     NaN      72.000000   \n",
       "50%        39.000000          NaN      NaN        NaN     NaN     448.000000   \n",
       "75%        48.000000          NaN      NaN        NaN     NaN    1428.000000   \n",
       "max        95.000000          NaN      NaN        NaN     NaN  102127.000000   \n",
       "\n",
       "       housing   loan   contact           day  month      duration  \\\n",
       "count    45211  45211     45211  45211.000000  45211  45211.000000   \n",
       "unique       2      2         3           NaN     12           NaN   \n",
       "top        yes     no  cellular           NaN    may           NaN   \n",
       "freq     25130  37967     29285           NaN  13766           NaN   \n",
       "mean       NaN    NaN       NaN     15.806419    NaN    258.163080   \n",
       "std        NaN    NaN       NaN      8.322476    NaN    257.527812   \n",
       "min        NaN    NaN       NaN      1.000000    NaN      0.000000   \n",
       "25%        NaN    NaN       NaN      8.000000    NaN    103.000000   \n",
       "50%        NaN    NaN       NaN     16.000000    NaN    180.000000   \n",
       "75%        NaN    NaN       NaN     21.000000    NaN    319.000000   \n",
       "max        NaN    NaN       NaN     31.000000    NaN   4918.000000   \n",
       "\n",
       "            campaign         pdays      previous poutcome      y  \n",
       "count   45211.000000  45211.000000  45211.000000    45211  45211  \n",
       "unique           NaN           NaN           NaN        4      2  \n",
       "top              NaN           NaN           NaN  unknown     no  \n",
       "freq             NaN           NaN           NaN    36959  39922  \n",
       "mean        2.763841     40.197828      0.580323      NaN    NaN  \n",
       "std         3.098021    100.128746      2.303441      NaN    NaN  \n",
       "min         1.000000     -1.000000      0.000000      NaN    NaN  \n",
       "25%         1.000000     -1.000000      0.000000      NaN    NaN  \n",
       "50%         2.000000     -1.000000      0.000000      NaN    NaN  \n",
       "75%         3.000000     -1.000000      0.000000      NaN    NaN  \n",
       "max        63.000000    871.000000    275.000000      NaN    NaN  "
      ]
     },
     "execution_count": 121,
     "metadata": {},
     "output_type": "execute_result"
    }
   ],
   "source": [
    "df.describe(include='all')"
   ]
  },
  {
   "cell_type": "code",
   "execution_count": 122,
   "id": "b937e2c9",
   "metadata": {},
   "outputs": [
    {
     "data": {
      "text/plain": [
       "age          0\n",
       "job          0\n",
       "marital      0\n",
       "education    0\n",
       "default      0\n",
       "balance      0\n",
       "housing      0\n",
       "loan         0\n",
       "contact      0\n",
       "day          0\n",
       "month        0\n",
       "duration     0\n",
       "campaign     0\n",
       "pdays        0\n",
       "previous     0\n",
       "poutcome     0\n",
       "y            0\n",
       "dtype: int64"
      ]
     },
     "execution_count": 122,
     "metadata": {},
     "output_type": "execute_result"
    }
   ],
   "source": [
    "df.isnull().sum()"
   ]
  },
  {
   "cell_type": "code",
   "execution_count": 123,
   "id": "a273a5ed",
   "metadata": {},
   "outputs": [
    {
     "data": {
      "image/png": "[encoded data removed]",
      "text/plain": [
       "<Figure size 432x288 with 1 Axes>"
      ]
     },
     "metadata": {
      "needs_background": "light"
     },
     "output_type": "display_data"
    },
    {
     "name": "stdout",
     "output_type": "stream",
     "text": [
      "no     0.883015\n",
      "yes    0.116985\n",
      "Name: y, dtype: float64\n"
     ]
    }
   ],
   "source": [
    "import seaborn as sns\n",
    "import matplotlib.pyplot as plt\n",
    "\n",
    "sns.countplot(data=df, x='y')\n",
    "plt.title(\"Target Variable Distribution\")\n",
    "plt.show()\n",
    "\n",
    "print(df['y'].value_counts(normalize=True))"
   ]
  },
  {
   "cell_type": "markdown",
   "id": "64c685c9",
   "metadata": {},
   "source": [
    "# Data Cleaning"
   ]
  },
  {
   "cell_type": "markdown",
   "id": "0df44163",
   "metadata": {},
   "source": [
    "### Data Observation\n",
    "| Column    | Type        | Observation                                     | Cleaning Action                                                   |\n",
    "| --------- | ----------- | ----------------------------------------------- | ----------------------------------------------------------------- |\n",
    "| age       | Numerical   | 45,211 values — all present                     | Check for outliers (e.g., age > 90)                               |\n",
    "| job       | Categorical | 12 unique values                                | Look for 'unknown' values; standardize categories                 |\n",
    "| marital   | Categorical | 3 values (e.g., married/single/divorced)        | No cleaning unless 'unknown' exists                               |\n",
    "| education | Categorical | 4 values                                        | Often contains 'unknown'; clean or encode accordingly             |\n",
    "| default   | Categorical | 2 values                                        | Often includes 'unknown'; evaluate meaning and recode             |\n",
    "| balance   | Numerical   | Continuous values                               | Consider outlier treatment (e.g., very high or negative balances) |\n",
    "| housing   | Categorical | 2 values (yes/no)                               | Check for 'unknown'                                               |\n",
    "| loan      | Categorical | 2 values (yes/no)                               | Same as above                                                     |\n",
    "| contact   | Categorical | 3 values (cellular, telephone, unknown)         | unknown' should be treated or excluded                            |\n",
    "| day       | Numerical   | Day of the month (1–31)                         | No cleaning needed unless used in feature engineering             |\n",
    "| month     | Categorical | 12 values                                       | Map month names to ordinal (e.g., Jan=1) if needed                |\n",
    "| duration  | Numerical   | Call duration                                   | Must be dropped during training (leakage)                         |\n",
    "| campaign  | Numerical   | Number of contacts during this campaign         | Consider for outlier check                                        |\n",
    "| pdays     | Numerical   | 999 = not contacted in previous campaign        | Use with care; 999 is not \"missing\" but needs semantic handling   |\n",
    "| previous  | Numerical   | Past campaign contacts                          | Keep as is; useful for modeling                                   |\n",
    "| poutcome  | Categorical | 4 values (success, failure, other, nonexistent) | nonexistent is not missing — treat as a valid category            |\n",
    "| y         | Target      | 2 values (yes, no)                              | Convert to binary (1 = yes, 0 = no)                               |"
   ]
  },
  {
   "cell_type": "markdown",
   "id": "b3a4b89b",
   "metadata": {},
   "source": [
    "## Column - age"
   ]
  },
  {
   "cell_type": "code",
   "execution_count": 124,
   "id": "775168f6",
   "metadata": {},
   "outputs": [
    {
     "data": {
      "text/plain": [
       "count    45211.000000\n",
       "mean        40.936210\n",
       "std         10.618762\n",
       "min         18.000000\n",
       "25%         33.000000\n",
       "50%         39.000000\n",
       "75%         48.000000\n",
       "max         95.000000\n",
       "Name: age, dtype: float64"
      ]
     },
     "execution_count": 124,
     "metadata": {},
     "output_type": "execute_result"
    }
   ],
   "source": [
    "# Summary Statistics\n",
    "df['age'].describe()"
   ]
  },
  {
   "cell_type": "code",
   "execution_count": 125,
   "id": "42688883",
   "metadata": {},
   "outputs": [
    {
     "data": {
      "image/png": "[encoded data removed]",
      "text/plain": [
       "<Figure size 432x288 with 1 Axes>"
      ]
     },
     "metadata": {
      "needs_background": "light"
     },
     "output_type": "display_data"
    }
   ],
   "source": [
    "import seaborn as sns\n",
    "import matplotlib.pyplot as plt\n",
    "\n",
    "sns.boxplot(x=df['age'])\n",
    "plt.title(\"Boxplot of Age\")\n",
    "plt.show()"
   ]
  },
  {
   "cell_type": "code",
   "execution_count": 126,
   "id": "c8a9ae7e",
   "metadata": {},
   "outputs": [
    {
     "name": "stdout",
     "output_type": "stream",
     "text": [
      "Outlier threshold: age < 10.5 or age > 70.5\n",
      "\n",
      "Number of outliers in age: 487\n",
      "\n",
      "Outlier values:\n",
      "71    54\n",
      "72    52\n",
      "73    44\n",
      "74    37\n",
      "75    39\n",
      "76    32\n",
      "77    44\n",
      "78    30\n",
      "79    25\n",
      "80    31\n",
      "81    17\n",
      "82    19\n",
      "83    22\n",
      "84     9\n",
      "85     5\n",
      "86     9\n",
      "87     4\n",
      "88     2\n",
      "89     3\n",
      "90     2\n",
      "92     2\n",
      "93     2\n",
      "94     1\n",
      "95     2\n",
      "Name: age, dtype: int64\n"
     ]
    }
   ],
   "source": [
    "Q1 = df['age'].quantile(0.25)\n",
    "Q3 = df['age'].quantile(0.75)\n",
    "IQR = Q3 - Q1\n",
    "\n",
    "lower_bound = Q1 - 1.5 * IQR\n",
    "upper_bound = Q3 + 1.5 * IQR\n",
    "\n",
    "print(f\"Outlier threshold: age < {lower_bound:.1f} or age > {upper_bound:.1f}\")\n",
    "\n",
    "#Count outliers\n",
    "outliers = df[(df['age'] < lower_bound) | (df['age'] > upper_bound)]\n",
    "print(f\"\\nNumber of outliers in age: {len(outliers)}\")\n",
    "\n",
    "#Outlier values\n",
    "print(\"\\nOutlier values:\")\n",
    "print(outliers['age'].value_counts().sort_index())"
   ]
  },
  {
   "cell_type": "markdown",
   "id": "ccdc9b15",
   "metadata": {},
   "source": [
    "### Action on Outliers\n",
    "- Option A - Cap or Clip Outliers (This retains all records but limits extreme values.)\n",
    "- Option B - Remove Outliers (This removes a small number of extreme rows, assuming they add noise.)\n",
    "- Option C - Keep As-is\n"
   ]
  },
  {
   "cell_type": "code",
   "execution_count": 127,
   "id": "8d5aefa4",
   "metadata": {},
   "outputs": [],
   "source": [
    "# Option B\n",
    "df = df[(df['age'] >= lower_bound) & (df['age'] <= upper_bound)]\n",
    "# Option A\n",
    "#df['age'] = df['age'].clip(lower=lower_bound, upper=upper_bound)"
   ]
  },
  {
   "cell_type": "markdown",
   "id": "0596dc0d",
   "metadata": {},
   "source": [
    "## Column - Job"
   ]
  },
  {
   "cell_type": "code",
   "execution_count": 128,
   "id": "49a00952",
   "metadata": {},
   "outputs": [
    {
     "data": {
      "text/plain": [
       "blue-collar      21.75%\n",
       "management       21.12%\n",
       "technician       16.98%\n",
       "admin.           11.56%\n",
       "services          9.29%\n",
       "retired           4.09%\n",
       "self-employed     3.52%\n",
       "entrepreneur      3.32%\n",
       "unemployed        2.91%\n",
       "housemaid         2.74%\n",
       "student            2.1%\n",
       "unknown           0.63%\n",
       "Name: job, dtype: object"
      ]
     },
     "execution_count": 128,
     "metadata": {},
     "output_type": "execute_result"
    }
   ],
   "source": [
    "# Check for typos, formatting issues, and 'unknown' entries.\n",
    "#df['job'].value_counts()\n",
    "df['job'].value_counts(normalize=True).mul(100).round(2).astype(str) + '%'"
   ]
  },
  {
   "cell_type": "code",
   "execution_count": 129,
   "id": "2710849f",
   "metadata": {},
   "outputs": [],
   "source": [
    "# Standardize 'job' column\n",
    "df['job'] = df['job'].str.lower().str.strip()\n",
    "df['job'] = df['job'].replace('admin.', 'admin')"
   ]
  },
  {
   "cell_type": "markdown",
   "id": "2e132d52",
   "metadata": {},
   "source": [
    "Handle 'unknown' Values\n",
    "- Option A: Replace 'unknown' with the most frequent job (mode)\n",
    "- Option B: Keep 'unknown' as a separate category\n",
    "- Option C: Drop rows with 'unknown'"
   ]
  },
  {
   "cell_type": "code",
   "execution_count": 130,
   "id": "fc941430",
   "metadata": {},
   "outputs": [
    {
     "name": "stdout",
     "output_type": "stream",
     "text": [
      " Most common job blue-collar\n"
     ]
    }
   ],
   "source": [
    "# Option A\n",
    "most_common_job = df['job'].mode()[0]\n",
    "print(f\" Most common job {most_common_job}\")\n",
    "df['job'] = df['job'].replace('unknown', most_common_job)\n",
    "\n",
    "# Option C\n",
    "# df = df[df['job'] != 'unknown']"
   ]
  },
  {
   "cell_type": "markdown",
   "id": "4a6d4f47",
   "metadata": {},
   "source": [
    "## Column - education"
   ]
  },
  {
   "cell_type": "code",
   "execution_count": 131,
   "id": "e99150a6",
   "metadata": {},
   "outputs": [
    {
     "data": {
      "text/plain": [
       "secondary    51.58%\n",
       "tertiary     29.55%\n",
       "primary      14.83%\n",
       "unknown       4.04%\n",
       "Name: education, dtype: object"
      ]
     },
     "execution_count": 131,
     "metadata": {},
     "output_type": "execute_result"
    }
   ],
   "source": [
    "#df['education'].value_counts()\n",
    "df['education'].value_counts(normalize=True).mul(100).round(2).astype(str) + '%'"
   ]
  },
  {
   "cell_type": "code",
   "execution_count": 132,
   "id": "b4894c2e",
   "metadata": {},
   "outputs": [
    {
     "name": "stdout",
     "output_type": "stream",
     "text": [
      " Most common education secondary\n"
     ]
    }
   ],
   "source": [
    "# Option A\n",
    "most_common_edu = df['education'].mode()[0]\n",
    "print(f\" Most common education {most_common_edu}\")\n",
    "df['education'] = df['education'].replace('unknown', most_common_edu)\n",
    "\n",
    "# Option C\n",
    "# df = df[df['education'] != 'unknown']"
   ]
  },
  {
   "cell_type": "markdown",
   "id": "af2c0e18",
   "metadata": {},
   "source": [
    "## Column - contact"
   ]
  },
  {
   "cell_type": "code",
   "execution_count": 133,
   "id": "dc5d65e1",
   "metadata": {},
   "outputs": [
    {
     "data": {
      "text/plain": [
       "cellular     64.89%\n",
       "unknown      29.11%\n",
       "telephone      6.0%\n",
       "Name: contact, dtype: object"
      ]
     },
     "execution_count": 133,
     "metadata": {},
     "output_type": "execute_result"
    }
   ],
   "source": [
    "df['contact'].value_counts(normalize=True).mul(100).round(2).astype(str) + '%'"
   ]
  },
  {
   "cell_type": "code",
   "execution_count": 134,
   "id": "da503b42",
   "metadata": {},
   "outputs": [
    {
     "name": "stdout",
     "output_type": "stream",
     "text": [
      " Most common education cellular\n"
     ]
    }
   ],
   "source": [
    "# Option A\n",
    "most_common_contact = df['contact'].mode()[0]\n",
    "print(f\" Most common education {most_common_contact}\")\n",
    "df['contact'] = df['contact'].replace('unknown', most_common_contact)\n",
    "\n",
    "# Option C - Not recommended , we may lose lot of valuable data here\n",
    "# df = df[df['education'] != 'unknown']"
   ]
  },
  {
   "cell_type": "markdown",
   "id": "e36d35f7",
   "metadata": {},
   "source": [
    "## Column - balance"
   ]
  },
  {
   "cell_type": "code",
   "execution_count": 135,
   "id": "7ea58b24",
   "metadata": {},
   "outputs": [
    {
     "data": {
      "text/plain": [
       "count     44724.000000\n",
       "mean       1345.344491\n",
       "std        2983.219087\n",
       "min       -8019.000000\n",
       "25%          71.000000\n",
       "50%         442.000000\n",
       "75%        1408.000000\n",
       "max      102127.000000\n",
       "Name: balance, dtype: float64"
      ]
     },
     "execution_count": 135,
     "metadata": {},
     "output_type": "execute_result"
    }
   ],
   "source": [
    "df['balance'].describe()"
   ]
  },
  {
   "cell_type": "code",
   "execution_count": 136,
   "id": "160e8871",
   "metadata": {},
   "outputs": [
    {
     "name": "stdout",
     "output_type": "stream",
     "text": [
      "Outlier threshold: balance < -1934.5 or balance > 3413.5\n",
      "\n",
      "Number of outliers in balance: 4696\n",
      "\n",
      "Outlier values:\n",
      "-8019      1\n",
      "-6847      1\n",
      "-4057      1\n",
      "-3372      1\n",
      "-3313      1\n",
      "          ..\n",
      " 66653     1\n",
      " 66721     1\n",
      " 71188     1\n",
      " 98417     1\n",
      " 102127    1\n",
      "Name: balance, Length: 3002, dtype: int64\n"
     ]
    }
   ],
   "source": [
    "Q1 = df['balance'].quantile(0.25)\n",
    "Q3 = df['balance'].quantile(0.75)\n",
    "IQR = Q3 - Q1\n",
    "\n",
    "lower_bound = Q1 - 1.5 * IQR\n",
    "upper_bound = Q3 + 1.5 * IQR\n",
    "\n",
    "print(f\"Outlier threshold: balance < {lower_bound:.1f} or balance > {upper_bound:.1f}\")\n",
    "\n",
    "#Count outliers\n",
    "outliers = df[(df['balance'] < lower_bound) | (df['balance'] > upper_bound)]\n",
    "print(f\"\\nNumber of outliers in balance: {len(outliers)}\")\n",
    "\n",
    "#Outlier values\n",
    "print(\"\\nOutlier values:\")\n",
    "print(outliers['balance'].value_counts().sort_index())"
   ]
  },
  {
   "cell_type": "markdown",
   "id": "4a409665",
   "metadata": {},
   "source": [
    "### Action on Outliers\n",
    "- Option A - Cap or Clip Outliers (This retains all records but limits extreme values.)\n",
    "- Option B - Remove Outliers (This removes a small number of extreme rows, assuming they add noise.)\n",
    "- Option C - Keep As-is\n",
    "- Option D - Any values below zero (i.e., negative balances) should be converted to 0. This is a practical cleaning step, especially if negative balances don't have business relevance or could bias the model.\n"
   ]
  },
  {
   "cell_type": "code",
   "execution_count": 137,
   "id": "7a362e47",
   "metadata": {},
   "outputs": [],
   "source": [
    "#Option D\n",
    "import numpy as np\n",
    "df['balance'] = np.where(df['balance'] < 0, 0, df['balance'])"
   ]
  },
  {
   "cell_type": "code",
   "execution_count": 138,
   "id": "f726b977",
   "metadata": {},
   "outputs": [
    {
     "data": {
      "text/plain": [
       "count     44724.000000\n",
       "mean       1372.094647\n",
       "std        2967.649251\n",
       "min           0.000000\n",
       "25%          71.000000\n",
       "50%         442.000000\n",
       "75%        1408.000000\n",
       "max      102127.000000\n",
       "Name: balance, dtype: float64"
      ]
     },
     "execution_count": 138,
     "metadata": {},
     "output_type": "execute_result"
    }
   ],
   "source": [
    "df['balance'].describe()"
   ]
  },
  {
   "cell_type": "markdown",
   "id": "b9e7206c",
   "metadata": {},
   "source": [
    "## Column - month"
   ]
  },
  {
   "cell_type": "code",
   "execution_count": 139,
   "id": "6048f013",
   "metadata": {},
   "outputs": [
    {
     "name": "stdout",
     "output_type": "stream",
     "text": [
      "Invalid months found: 0\n"
     ]
    }
   ],
   "source": [
    "month_mapping = ['jan', 'feb', 'mar', 'apr', 'may', 'jun',\n",
    "                'jul', 'aug', 'sep', 'oct', 'nov', 'dec']\n",
    "invalid_months = df[~df['month'].isin(month_mapping)]\n",
    "print(f\"Invalid months found: {len(invalid_months)}\")"
   ]
  },
  {
   "cell_type": "code",
   "execution_count": 140,
   "id": "b34f6058",
   "metadata": {},
   "outputs": [
    {
     "data": {
      "text/plain": [
       "may    30.74%\n",
       "jul    15.35%\n",
       "aug    13.81%\n",
       "jun     11.9%\n",
       "nov      8.8%\n",
       "apr     6.42%\n",
       "feb     5.79%\n",
       "jan      3.1%\n",
       "oct     1.51%\n",
       "sep     1.16%\n",
       "mar     0.99%\n",
       "dec     0.43%\n",
       "Name: month, dtype: object"
      ]
     },
     "execution_count": 140,
     "metadata": {},
     "output_type": "execute_result"
    }
   ],
   "source": [
    "#df['month'].value_counts()\n",
    "df['month'].value_counts(normalize=True).mul(100).round(2).astype(str) + '%'"
   ]
  },
  {
   "cell_type": "code",
   "execution_count": 141,
   "id": "6ecefbf5",
   "metadata": {},
   "outputs": [
    {
     "data": {
      "text/plain": [
       "0         5\n",
       "1         5\n",
       "2         5\n",
       "3         5\n",
       "4         5\n",
       "         ..\n",
       "45203    11\n",
       "45205    11\n",
       "45206    11\n",
       "45209    11\n",
       "45210    11\n",
       "Name: month, Length: 44724, dtype: int64"
      ]
     },
     "execution_count": 141,
     "metadata": {},
     "output_type": "execute_result"
    }
   ],
   "source": [
    "# Create a copy of the Original month Column\n",
    "df['month_text'] = df['month']\n",
    "# map months to ordinal values\n",
    "month_mapping = {\n",
    "    'jan': 1, 'feb': 2, 'mar': 3, 'apr': 4,\n",
    "    'may': 5, 'jun': 6, 'jul': 7, 'aug': 8,\n",
    "    'sep': 9, 'oct': 10, 'nov': 11, 'dec': 12\n",
    "}\n",
    "\n",
    "df['month'] = df['month'].map(month_mapping)\n",
    "df['month']\n"
   ]
  },
  {
   "cell_type": "markdown",
   "id": "610bec61",
   "metadata": {},
   "source": [
    "## Column - campaign"
   ]
  },
  {
   "cell_type": "code",
   "execution_count": 142,
   "id": "4c70cdef",
   "metadata": {},
   "outputs": [
    {
     "data": {
      "text/plain": [
       "count    44724.000000\n",
       "mean         2.770682\n",
       "std          3.108579\n",
       "min          1.000000\n",
       "25%          1.000000\n",
       "50%          2.000000\n",
       "75%          3.000000\n",
       "max         63.000000\n",
       "Name: campaign, dtype: float64"
      ]
     },
     "execution_count": 142,
     "metadata": {},
     "output_type": "execute_result"
    }
   ],
   "source": [
    "df['campaign'].describe()"
   ]
  },
  {
   "cell_type": "code",
   "execution_count": 143,
   "id": "e2f3a428",
   "metadata": {},
   "outputs": [
    {
     "data": {
      "image/png": "[encoded data removed]",
      "text/plain": [
       "<Figure size 432x288 with 1 Axes>"
      ]
     },
     "metadata": {
      "needs_background": "light"
     },
     "output_type": "display_data"
    }
   ],
   "source": [
    "import seaborn as sns\n",
    "import matplotlib.pyplot as plt\n",
    "\n",
    "sns.boxplot(x=df['campaign'])\n",
    "plt.title(\"Boxplot of campaign\")\n",
    "plt.show()"
   ]
  },
  {
   "cell_type": "code",
   "execution_count": 69,
   "id": "53a094a5",
   "metadata": {},
   "outputs": [
    {
     "name": "stdout",
     "output_type": "stream",
     "text": [
      "Outlier threshold: campaign < -2.0 or campaign > 6.0\n",
      "\n",
      "Number of outliers in campaign: 3064\n",
      "\n",
      "Outlier values:\n",
      "7     735\n",
      "8     540\n",
      "9     327\n",
      "10    266\n",
      "11    201\n",
      "12    155\n",
      "13    133\n",
      "14     93\n",
      "15     84\n",
      "16     79\n",
      "17     69\n",
      "18     51\n",
      "19     44\n",
      "20     43\n",
      "21     35\n",
      "22     23\n",
      "23     22\n",
      "24     20\n",
      "25     22\n",
      "26     13\n",
      "27     10\n",
      "28     16\n",
      "29     16\n",
      "30      8\n",
      "31     12\n",
      "32      9\n",
      "33      6\n",
      "34      5\n",
      "35      4\n",
      "36      4\n",
      "37      2\n",
      "38      3\n",
      "39      1\n",
      "41      2\n",
      "43      3\n",
      "44      1\n",
      "46      1\n",
      "50      2\n",
      "51      1\n",
      "55      1\n",
      "58      1\n",
      "63      1\n",
      "Name: campaign, dtype: int64\n"
     ]
    }
   ],
   "source": [
    "Q1 = df['campaign'].quantile(0.25)\n",
    "Q3 = df['campaign'].quantile(0.75)\n",
    "IQR = Q3 - Q1\n",
    "\n",
    "lower_bound = Q1 - 1.5 * IQR\n",
    "upper_bound = Q3 + 1.5 * IQR\n",
    "\n",
    "print(f\"Outlier threshold: campaign < {lower_bound:.1f} or campaign > {upper_bound:.1f}\")\n",
    "\n",
    "#Count outliers\n",
    "outliers = df[(df['campaign'] < lower_bound) | (df['campaign'] > upper_bound)]\n",
    "print(f\"\\nNumber of outliers in campaign: {len(outliers)}\")\n",
    "\n",
    "#Outlier values\n",
    "print(\"\\nOutlier values:\")\n",
    "print(outliers['campaign'].value_counts().sort_index())"
   ]
  },
  {
   "cell_type": "code",
   "execution_count": 144,
   "id": "24a243f6",
   "metadata": {},
   "outputs": [
    {
     "name": "stdout",
     "output_type": "stream",
     "text": [
      "Values below 0: 0\n",
      "Values above 6: 3050\n"
     ]
    }
   ],
   "source": [
    "print(\"Values below 0:\", (df['campaign'] < 0).sum())\n",
    "print(\"Values above 6:\", (df['campaign'] > 6).sum())"
   ]
  },
  {
   "cell_type": "code",
   "execution_count": 73,
   "id": "8ee687d6",
   "metadata": {},
   "outputs": [],
   "source": [
    "# Option A - Cap the Values\n",
    "#df['campaign'] = df['campaign'].clip(lower=0, upper=6)\n",
    "# Option B - Create a binned version\n",
    "#df['campaign_group'] = pd.cut(\n",
    "#    df['campaign'],\n",
    "#    bins=[0, 2, 6, df['campaign'].max()],\n",
    "#    labels=['low', 'medium', 'high'],\n",
    "#    right=True\n",
    "#)"
   ]
  },
  {
   "cell_type": "markdown",
   "id": "515af42b",
   "metadata": {},
   "source": [
    "### Feature Engnineering - Transforming `pdays` into Binary and Categorical Features"
   ]
  },
  {
   "cell_type": "markdown",
   "id": "b31a69a1",
   "metadata": {},
   "source": [
    "As part of feature engineering, the pdays column (which indicates the number of days since the last contact in a previous campaign) was transformed into:\n",
    "was_previously_contacted: a binary feature (1 = contacted before, 0 = not contacted)\n",
    "last_contact_category: a categorical feature classifying the recency of the last contact (never, recent, moderate, long_ago)\n",
    "These transformations make the variable more interpretable and suitable for machine learning models."
   ]
  },
  {
   "cell_type": "markdown",
   "id": "2185f8c5",
   "metadata": {},
   "source": [
    "0 → Not contacted before\n",
    "1 → Contacted before"
   ]
  },
  {
   "cell_type": "code",
   "execution_count": 145,
   "id": "90c12ba3",
   "metadata": {},
   "outputs": [],
   "source": [
    "df['was_previously_contacted'] = df['pdays'].apply(lambda x: 0 if x == -1 else 1)"
   ]
  },
  {
   "cell_type": "markdown",
   "id": "8047b472",
   "metadata": {},
   "source": [
    "- Never contacted: -1\n",
    "- Recently contacted: 0–7 days\n",
    "- Moderately contacted: 8–60 days\n",
    "- Long ago contacted: 61+ days"
   ]
  },
  {
   "cell_type": "code",
   "execution_count": 146,
   "id": "005b5672",
   "metadata": {},
   "outputs": [],
   "source": [
    "def categorize_pdays(x):\n",
    "    if x == -1:\n",
    "        return 'never'\n",
    "    elif x <= 7:\n",
    "        return 'recent'\n",
    "    elif x <= 60:\n",
    "        return 'moderate'\n",
    "    else:\n",
    "        return 'long_ago'\n",
    "\n",
    "df['last_contact_category'] = df['pdays'].apply(categorize_pdays)\n"
   ]
  },
  {
   "cell_type": "code",
   "execution_count": 147,
   "id": "520859f1",
   "metadata": {},
   "outputs": [
    {
     "name": "stdout",
     "output_type": "stream",
     "text": [
      "Number of mismatches: 0\n"
     ]
    }
   ],
   "source": [
    "mismatch = df[df['was_previously_contacted'] != (df['previous'] > 0).astype(int)]\n",
    "print(f\"Number of mismatches: {len(mismatch)}\")"
   ]
  },
  {
   "cell_type": "markdown",
   "id": "4a9811a8",
   "metadata": {},
   "source": [
    "### Feature Engnineering - Understanding `pdays` and `previous` column to derive a new feature"
   ]
  },
  {
   "cell_type": "markdown",
   "id": "a4a5ab40",
   "metadata": {},
   "source": [
    "\n",
    "-   **`pdays`**: Number of  **days since**  the client was  **last contacted in a previous campaign**.\n",
    "    \n",
    "    -   If  **`pdays = -1`**, the client was  **never contacted before**.\n",
    "        \n",
    "-   **`previous`**: Number of  **contacts made before**  this campaign.\n",
    "    \n",
    "    -   If  **`previous = 0`**, the client was  **not contacted in any previous campaign**.\n",
    "        \n",
    "\n",
    "### Therefore:\n",
    "\n",
    "-   If  `pdays == -1`, then  `previous`  **must**  be  `0`.\n",
    "    \n",
    "-   If  `previous == 0`, then  `pdays`  **must**  be  `-1`.\n",
    "\n",
    "***Below Code proves this relationship.***"
   ]
  },
  {
   "cell_type": "code",
   "execution_count": 148,
   "id": "c93736a4",
   "metadata": {},
   "outputs": [
    {
     "name": "stdout",
     "output_type": "stream",
     "text": [
      "Mismatches (pdays = -1 and previous ≠ 0): 0\n",
      "Mismatches (previous = 0 and pdays ≠ -1): 0\n"
     ]
    }
   ],
   "source": [
    "# Condition 1: Where pdays = -1 but previous != 0\n",
    "mismatch_1 = df[(df['pdays'] == -1) & (df['previous'] != 0)]\n",
    "\n",
    "# Condition 2: Where previous = 0 but pdays != -1\n",
    "mismatch_2 = df[(df['previous'] == 0) & (df['pdays'] != -1)]\n",
    "\n",
    "print(f\"Mismatches (pdays = -1 and previous ≠ 0): {len(mismatch_1)}\")\n",
    "print(f\"Mismatches (previous = 0 and pdays ≠ -1): {len(mismatch_2)}\")"
   ]
  },
  {
   "cell_type": "markdown",
   "id": "5d31c736",
   "metadata": {},
   "source": [
    "**Categorize the  `previous`  Column**\n",
    "\n",
    "We’ll add a new categorical column:  `previous_contact_category`\n",
    "\n",
    "**Logic:**\n",
    "\n",
    "| `previous` value | Category        |\n",
    "| ---------------- | --------------- |\n",
    "| 0                | never_contacted |\n",
    "| 1                | contacted_once  |\n",
    "| 2–3              | few_times       |\n",
    "| ≥ 4              | many_times      |"
   ]
  },
  {
   "cell_type": "code",
   "execution_count": 149,
   "id": "d381693d",
   "metadata": {},
   "outputs": [],
   "source": [
    "def categorize_previous(x):\n",
    "    if x == 0:\n",
    "        return 'never_contacted'\n",
    "    elif x == 1:\n",
    "        return 'contacted_once'\n",
    "    elif x <= 3:\n",
    "        return 'few_times'\n",
    "    else:\n",
    "        return 'many_times'\n",
    "\n",
    "df['previous_contact_category'] = df['previous'].apply(categorize_previous)"
   ]
  },
  {
   "cell_type": "markdown",
   "id": "0e1bc354",
   "metadata": {},
   "source": [
    "## Understanding the Relationship Between was_previously_contacted, poutcome, and y"
   ]
  },
  {
   "cell_type": "markdown",
   "id": "75981017",
   "metadata": {},
   "source": [
    "\n",
    "To explore how prior marketing engagement influences current subscription behavior (`y`), we analyzed the interaction between:\n",
    "\n",
    "-   **`was_previously_contacted`**  – binary indicator (1 = client contacted in previous campaign, 0 = never contacted),\n",
    "    \n",
    "-   **`poutcome`**  – outcome of the previous campaign (`success`,  `failure`,  `other`, or  `unknown`), and\n",
    "    \n",
    "-   **`y`**  – whether the client subscribed."
   ]
  },
  {
   "cell_type": "code",
   "execution_count": 150,
   "id": "d9d6740d",
   "metadata": {},
   "outputs": [
    {
     "data": {
      "text/plain": [
       "array(['unknown', 'failure', 'other', 'success'], dtype=object)"
      ]
     },
     "execution_count": 150,
     "metadata": {},
     "output_type": "execute_result"
    }
   ],
   "source": [
    "df['poutcome'].unique()"
   ]
  },
  {
   "cell_type": "code",
   "execution_count": 151,
   "id": "86cbc1f2",
   "metadata": {},
   "outputs": [
    {
     "data": {
      "text/plain": [
       "unknown    36653\n",
       "failure     4836\n",
       "other       1805\n",
       "success     1430\n",
       "Name: poutcome, dtype: int64"
      ]
     },
     "execution_count": 151,
     "metadata": {},
     "output_type": "execute_result"
    }
   ],
   "source": [
    "df['poutcome'].value_counts()"
   ]
  },
  {
   "cell_type": "code",
   "execution_count": 152,
   "id": "8666bd95",
   "metadata": {},
   "outputs": [
    {
     "name": "stdout",
     "output_type": "stream",
     "text": [
      "was_previously_contacted      0     1\n",
      "y                                    \n",
      "no                        33389  6264\n",
      "yes                        3259  1812\n"
     ]
    }
   ],
   "source": [
    "relationship_table = pd.crosstab(df['y'], df['was_previously_contacted'])\n",
    "print(relationship_table)"
   ]
  },
  {
   "cell_type": "code",
   "execution_count": 153,
   "id": "4fdfe41a",
   "metadata": {},
   "outputs": [
    {
     "name": "stdout",
     "output_type": "stream",
     "text": [
      "poutcome  failure  other  success  unknown\n",
      "y                                         \n",
      "no           4243   1508      510    33392\n",
      "yes           593    297      920     3261\n"
     ]
    }
   ],
   "source": [
    "relationship_table = pd.crosstab(df['y'], df['poutcome'])\n",
    "print(relationship_table)"
   ]
  },
  {
   "cell_type": "code",
   "execution_count": 154,
   "id": "1b1c96e7",
   "metadata": {},
   "outputs": [
    {
     "name": "stdout",
     "output_type": "stream",
     "text": [
      "y                                     no    yes\n",
      "was_previously_contacted poutcome              \n",
      "0                        unknown   91.11   8.89\n",
      "1                        failure   87.74  12.26\n",
      "                         other     83.55  16.45\n",
      "                         success   35.66  64.34\n",
      "                         unknown   60.00  40.00\n"
     ]
    }
   ],
   "source": [
    "three_way = pd.crosstab(\n",
    "    index=[df['was_previously_contacted'], df['poutcome']],\n",
    "    columns=df['y'],\n",
    "    normalize='index'  # show percentages within each group\n",
    ") * 100\n",
    "\n",
    "three_way = three_way.round(2)\n",
    "print(three_way)"
   ]
  },
  {
   "cell_type": "code",
   "execution_count": 155,
   "id": "f235b467",
   "metadata": {},
   "outputs": [
    {
     "data": {
      "image/png": "[encoded data removed]",
      "text/plain": [
       "<Figure size 432x288 with 1 Axes>"
      ]
     },
     "metadata": {
      "needs_background": "light"
     },
     "output_type": "display_data"
    }
   ],
   "source": [
    "import seaborn as sns\n",
    "import matplotlib.pyplot as plt\n",
    "\n",
    "# Convert the cross-tab to a DataFrame\n",
    "three_way_plot = three_way.reset_index()\n",
    "\n",
    "sns.barplot(\n",
    "    data=three_way_plot,\n",
    "    x='poutcome',\n",
    "    y='yes',\n",
    "    hue='was_previously_contacted'\n",
    ")\n",
    "plt.title('Subscription Rate (y = yes) by Previous Contact and Outcome')\n",
    "plt.ylabel('Subscription Rate (%)')\n",
    "plt.show()\n"
   ]
  },
  {
   "cell_type": "code",
   "execution_count": 156,
   "id": "f1ba7e68",
   "metadata": {},
   "outputs": [
    {
     "data": {
      "image/png": "[encoded data removed]",
      "text/plain": [
       "<Figure size 720x432 with 1 Axes>"
      ]
     },
     "metadata": {
      "needs_background": "light"
     },
     "output_type": "display_data"
    }
   ],
   "source": [
    "\n",
    "# Create a grouped percentage table\n",
    "group = pd.crosstab(\n",
    "    index=[df['poutcome'], df['was_previously_contacted']],\n",
    "    columns=df['y'],\n",
    "    normalize='index'\n",
    ") * 100\n",
    "\n",
    "#  Reset to flat DataFrame\n",
    "group = group.reset_index()\n",
    "\n",
    "# Rename 'no' column for clarity\n",
    "group = group.rename(columns={'no': 'no_percent'})\n",
    "\n",
    "# Plot\n",
    "plt.figure(figsize=(10, 6))\n",
    "sns.barplot(\n",
    "    data=group,\n",
    "    x='poutcome',\n",
    "    y='no_percent',\n",
    "    hue='was_previously_contacted',\n",
    "    palette='viridis'\n",
    ")\n",
    "plt.title(\"Percentage of Customers who didn't subscribe by Prior contact\")\n",
    "plt.xlabel(\"Previous Campaign Outcome Categories (poutcome)\")\n",
    "plt.ylabel(\"Percentage of 'No' in Y\")\n",
    "plt.legend(title=\"Previously Contacted\")\n",
    "plt.ylim(0, 100)\n",
    "plt.show()\n"
   ]
  },
  {
   "cell_type": "markdown",
   "id": "14019514",
   "metadata": {},
   "source": [
    "# Recommendation for Model input"
   ]
  },
  {
   "cell_type": "markdown",
   "id": "5fa65e69",
   "metadata": {},
   "source": [
    "\n",
    "**Focus on clients who were previously contacted**  \n",
    "Among them:\n",
    "\n",
    "-   If  `y = \"yes\"`  → label as  **possible clients**\n",
    "    \n",
    "-   If  `y = \"no\"`  → label as  **failure (do not contact again)**  \n",
    "    Skip or deprioritize clients who were never contacted (less reliable behavior history)"
   ]
  },
  {
   "cell_type": "code",
   "execution_count": 111,
   "id": "854f51f7",
   "metadata": {},
   "outputs": [],
   "source": [
    "# Filter: Only those previously contacted\n",
    "contacted_df = df[df['was_previously_contacted'] == 1].copy()"
   ]
  },
  {
   "cell_type": "code",
   "execution_count": 112,
   "id": "0af7f729",
   "metadata": {},
   "outputs": [],
   "source": [
    "def classify_client(row):\n",
    "    if row['y'] == 'yes':\n",
    "        return 'possible_client_category'\n",
    "    else:\n",
    "        return 'failure'\n",
    "\n",
    "# Create a New Column for Labeling\n",
    "\n",
    "contacted_df['client_status'] = contacted_df.apply(classify_client, axis=1)"
   ]
  },
  {
   "cell_type": "code",
   "execution_count": 157,
   "id": "9e704f5c",
   "metadata": {},
   "outputs": [
    {
     "name": "stdout",
     "output_type": "stream",
     "text": [
      "failure                     6352\n",
      "possible_client_category    1905\n",
      "Name: client_status, dtype: int64\n"
     ]
    }
   ],
   "source": [
    "print(contacted_df['client_status'].value_counts())"
   ]
  },
  {
   "cell_type": "code",
   "execution_count": 162,
   "id": "bc8daef7",
   "metadata": {},
   "outputs": [],
   "source": [
    "contacted_df = contacted_df.drop('duration', axis=1)"
   ]
  },
  {
   "cell_type": "code",
   "execution_count": 163,
   "id": "16fb425e",
   "metadata": {},
   "outputs": [],
   "source": [
    "contacted_df.to_csv('./data/cleaned_contacted_data.csv', index=False)"
   ]
  },
  {
   "cell_type": "code",
   "execution_count": 164,
   "id": "660b96c6",
   "metadata": {},
   "outputs": [],
   "source": [
    "df.to_csv('./data/cleaned_full_data.csv', index=False)"
   ]
  },
  {
   "cell_type": "markdown",
   "id": "5b0eb484",
   "metadata": {},
   "source": [
    "**Check for Imbalance**"
   ]
  },
  {
   "cell_type": "code",
   "execution_count": 115,
   "id": "41da2d9e",
   "metadata": {},
   "outputs": [
    {
     "data": {
      "image/png": "[encoded data removed]",
      "text/plain": [
       "<Figure size 432x288 with 1 Axes>"
      ]
     },
     "metadata": {
      "needs_background": "light"
     },
     "output_type": "display_data"
    }
   ],
   "source": [
    "import seaborn as sns\n",
    "import matplotlib.pyplot as plt\n",
    "\n",
    "sns.countplot(data=contacted_df, x='y', hue='y', palette='Set2', legend=False)\n",
    "plt.title(\"Distribution of Target Variable (y) in Contacted Clients\")\n",
    "plt.ylabel(\"Count\")\n",
    "plt.xlabel(\"Subscribed to Term Deposit\")\n",
    "plt.show()\n"
   ]
  },
  {
   "cell_type": "code",
   "execution_count": 116,
   "id": "71337fd2",
   "metadata": {},
   "outputs": [
    {
     "data": {
      "image/png": "[encoded data removed]",
      "text/plain": [
       "<Figure size 432x288 with 1 Axes>"
      ]
     },
     "metadata": {
      "needs_background": "light"
     },
     "output_type": "display_data"
    }
   ],
   "source": [
    "import seaborn as sns\n",
    "import matplotlib.pyplot as plt\n",
    "\n",
    "sns.countplot(data=contacted_df, \n",
    "              x='previous_contact_category', \n",
    "              hue='y', \n",
    "              palette='Set2')\n",
    "plt.title(\"Subscription Outcome by Previous Contact Category\")\n",
    "plt.xlabel(\"Previous Contact Frequency\")\n",
    "plt.ylabel(\"Number of Clients\")\n",
    "plt.legend(title=\"Subscribed (y)\")\n",
    "plt.xticks(rotation=0)\n",
    "plt.show()\n"
   ]
  },
  {
   "cell_type": "markdown",
   "id": "cf70b96a",
   "metadata": {},
   "source": [
    "## Columns left without any pre-processing \n",
    "- ***martial*** - No cleaning required, as no 'unknown' or null values found\n",
    "- ***default*** - No cleaning required, as no 'unknown' or null values found\n",
    "- ***housing*** - No cleaning required, as no 'unknown' or null values found\n",
    "- ***loan*** - No cleaning required, as no 'unknown' or null values found\n",
    "- ***day*** - No cleaning required, as no 'unknown' or null or invalid values found\n",
    "- ***duration*** - No impact on the training. ***???? Need to confirm with team*** - The duration column, although highly predictive, is excluded from model training to avoid data leakage. Since it reflects the length of a call that has already happened, it is not available at prediction time and would result in an unrealistic model performance if included."
   ]
  },
  {
   "cell_type": "markdown",
   "id": "00909133",
   "metadata": {},
   "source": [
    "### Data Observation\n",
    "| Column    | Type        | Observation                                     | Cleaning Action Performed                                         |\n",
    "| --------- | ----------- | ----------------------------------------------- | ----------------------------------------------------------------- |\n",
    "| age       | Numerical   | 45,211 values — all present                     | Actioned on Outliers.                                             |\n",
    "| job       | Categorical | 12 unique values                                | Replaced unknownd with freq mode; standardize categories          |\n",
    "| marital   | Categorical | 3 values (e.g., married/single/divorced)        | No cleaning                                                       |\n",
    "| education | Categorical | 4 values                                        | Replaced unknownd with freq mode; standardize categories          |\n",
    "| default   | Categorical | 2 values                                        | No cleaning                                                       |\n",
    "| balance   | Numerical   | Continuous values                               | Actioned on Outliers.                                             |\n",
    "| housing   | Categorical | 2 values (yes/no)                               | No cleaning                                                       |\n",
    "| loan      | Categorical | 2 values (yes/no)                               | No cleaning                                                       |\n",
    "| contact   | Categorical | 3 values (cellular, telephone, unknown)         | Replaced unknownd with freq mode; standardize categories          |\n",
    "| day       | Numerical   | Day of the month (1–31)                         | No cleaning                                                       |\n",
    "| month     | Categorical | 12 values                                       | Map month names to ordinal (e.g., Jan=1)                          |\n",
    "| duration  | Numerical   | Call duration                                   | Must be dropped during training (leakage) - No cleaning           |\n",
    "| campaign  | Numerical   | Number of contacts during this campaign         | Actioned on Outliers.                                             |\n",
    "| pdays     | Numerical   | 999 = not contacted in previous campaign        | Derived new field - was_previously_contacted                      |\n",
    "| previous  | Numerical   | Past campaign contacts                          | Derived new field - previous_contact_category                     |\n",
    "| poutcome  | Categorical | 4 values (success, failure, other, unknown)     | unknown is not missing — treat as a valid category                |\n",
    "| y         | Target      | 2 values (yes, no)                              | Convert to binary (1 = yes, 0 = no)                               |"
   ]
  },
  {
   "cell_type": "code",
   "execution_count": 80,
   "id": "594b8faa",
   "metadata": {},
   "outputs": [
    {
     "name": "stdout",
     "output_type": "stream",
     "text": [
      "Number of invalid day values: 0\n"
     ]
    }
   ],
   "source": [
    "invalid_days = df[(df['day'] < 1) | (df['day'] > 31)]\n",
    "print(f\"Number of invalid day values: {len(invalid_days)}\")"
   ]
  },
  {
   "cell_type": "code",
   "execution_count": 64,
   "id": "b87b8bf8",
   "metadata": {},
   "outputs": [
    {
     "data": {
      "text/plain": [
       "count    45211.000000\n",
       "mean       258.163080\n",
       "std        257.527812\n",
       "min          0.000000\n",
       "25%        103.000000\n",
       "50%        180.000000\n",
       "75%        319.000000\n",
       "max       4918.000000\n",
       "Name: duration, dtype: float64"
      ]
     },
     "execution_count": 64,
     "metadata": {},
     "output_type": "execute_result"
    }
   ],
   "source": [
    "df['duration'].describe()"
   ]
  },
  {
   "cell_type": "code",
   "execution_count": 65,
   "id": "bbe12173",
   "metadata": {},
   "outputs": [
    {
     "data": {
      "image/png": "[encoded data removed]",
      "text/plain": [
       "<Figure size 432x288 with 1 Axes>"
      ]
     },
     "metadata": {
      "needs_background": "light"
     },
     "output_type": "display_data"
    }
   ],
   "source": [
    "import seaborn as sns\n",
    "import matplotlib.pyplot as plt\n",
    "\n",
    "sns.boxplot(x=df['duration'])\n",
    "plt.title(\"Boxplot of duration\")\n",
    "plt.show()"
   ]
  },
  {
   "cell_type": "code",
   "execution_count": 66,
   "id": "43898dc6",
   "metadata": {},
   "outputs": [
    {
     "name": "stdout",
     "output_type": "stream",
     "text": [
      "Outlier threshold: duration < -221.0 or duration > 643.0\n",
      "\n",
      "Number of outliers in duration: 3235\n",
      "\n",
      "Outlier values:\n",
      "644     13\n",
      "645     15\n",
      "646      7\n",
      "647      8\n",
      "648      9\n",
      "        ..\n",
      "3366     1\n",
      "3422     1\n",
      "3785     1\n",
      "3881     1\n",
      "4918     1\n",
      "Name: duration, Length: 929, dtype: int64\n"
     ]
    }
   ],
   "source": [
    "Q1 = df['duration'].quantile(0.25)\n",
    "Q3 = df['duration'].quantile(0.75)\n",
    "IQR = Q3 - Q1\n",
    "\n",
    "lower_bound = Q1 - 1.5 * IQR\n",
    "upper_bound = Q3 + 1.5 * IQR\n",
    "\n",
    "print(f\"Outlier threshold: duration < {lower_bound:.1f} or duration > {upper_bound:.1f}\")\n",
    "\n",
    "#Count outliers\n",
    "outliers = df[(df['duration'] < lower_bound) | (df['duration'] > upper_bound)]\n",
    "print(f\"\\nNumber of outliers in duration: {len(outliers)}\")\n",
    "\n",
    "#Outlier values\n",
    "print(\"\\nOutlier values:\")\n",
    "print(outliers['duration'].value_counts().sort_index())"
   ]
  },
  {
   "cell_type": "code",
   "execution_count": 88,
   "id": "1253857a",
   "metadata": {},
   "outputs": [
    {
     "name": "stdout",
     "output_type": "stream",
     "text": [
      "Minimum pdays: -1\n",
      "Maximum pdays: 871\n"
     ]
    }
   ],
   "source": [
    "print(\"Minimum pdays:\", df['pdays'].min())\n",
    "print(\"Maximum pdays:\", df['pdays'].max())"
   ]
  }
 ],
 "metadata": {
  "kernelspec": {
   "display_name": "geo_pandas",
   "language": "python",
   "name": "geo_pandas"
  },
  "language_info": {
   "codemirror_mode": {
    "name": "ipython",
    "version": 3
   },
   "file_extension": ".py",
   "mimetype": "text/x-python",
   "name": "python",
   "nbconvert_exporter": "python",
   "pygments_lexer": "ipython3",
   "version": "3.10.5"
  }
 },
 "nbformat": 4,
 "nbformat_minor": 5
}
