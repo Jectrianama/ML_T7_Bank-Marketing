{
 "cells": [
  {
   "cell_type": "markdown",
   "id": "f4e91de5",
   "metadata": {},
   "source": [
    "### Data Overview"
   ]
  },
  {
   "cell_type": "code",
   "execution_count": 56,
   "id": "5a0c16e3",
   "metadata": {},
   "outputs": [
    {
     "name": "stdout",
     "output_type": "stream",
     "text": [
      "(45211, 17)\n"
     ]
    }
   ],
   "source": [
    "import pandas as pd\n",
    "\n",
    "df = pd.read_csv(\"app/bank-full.csv\",delimiter=';')\n",
    "print(df.shape)"
   ]
  },
  {
   "cell_type": "code",
   "execution_count": 4,
   "id": "bae87544",
   "metadata": {},
   "outputs": [
    {
     "name": "stdout",
     "output_type": "stream",
     "text": [
      "<class 'pandas.core.frame.DataFrame'>\n",
      "RangeIndex: 45211 entries, 0 to 45210\n",
      "Data columns (total 17 columns):\n",
      " #   Column     Non-Null Count  Dtype \n",
      "---  ------     --------------  ----- \n",
      " 0   age        45211 non-null  int64 \n",
      " 1   job        45211 non-null  object\n",
      " 2   marital    45211 non-null  object\n",
      " 3   education  45211 non-null  object\n",
      " 4   default    45211 non-null  object\n",
      " 5   balance    45211 non-null  int64 \n",
      " 6   housing    45211 non-null  object\n",
      " 7   loan       45211 non-null  object\n",
      " 8   contact    45211 non-null  object\n",
      " 9   day        45211 non-null  int64 \n",
      " 10  month      45211 non-null  object\n",
      " 11  duration   45211 non-null  int64 \n",
      " 12  campaign   45211 non-null  int64 \n",
      " 13  pdays      45211 non-null  int64 \n",
      " 14  previous   45211 non-null  int64 \n",
      " 15  poutcome   45211 non-null  object\n",
      " 16  y          45211 non-null  object\n",
      "dtypes: int64(7), object(10)\n",
      "memory usage: 5.9+ MB\n"
     ]
    }
   ],
   "source": [
    "df.info()"
   ]
  },
  {
   "cell_type": "code",
   "execution_count": 5,
   "id": "86c4cb90",
   "metadata": {},
   "outputs": [
    {
     "data": {
      "text/html": [
       "<div>\n",
       "<style scoped>\n",
       "    .dataframe tbody tr th:only-of-type {\n",
       "        vertical-align: middle;\n",
       "    }\n",
       "\n",
       "    .dataframe tbody tr th {\n",
       "        vertical-align: top;\n",
       "    }\n",
       "\n",
       "    .dataframe thead th {\n",
       "        text-align: right;\n",
       "    }\n",
       "</style>\n",
       "<table border=\"1\" class=\"dataframe\">\n",
       "  <thead>\n",
       "    <tr style=\"text-align: right;\">\n",
       "      <th></th>\n",
       "      <th>age</th>\n",
       "      <th>job</th>\n",
       "      <th>marital</th>\n",
       "      <th>education</th>\n",
       "      <th>default</th>\n",
       "      <th>balance</th>\n",
       "      <th>housing</th>\n",
       "      <th>loan</th>\n",
       "      <th>contact</th>\n",
       "      <th>day</th>\n",
       "      <th>month</th>\n",
       "      <th>duration</th>\n",
       "      <th>campaign</th>\n",
       "      <th>pdays</th>\n",
       "      <th>previous</th>\n",
       "      <th>poutcome</th>\n",
       "      <th>y</th>\n",
       "    </tr>\n",
       "  </thead>\n",
       "  <tbody>\n",
       "    <tr>\n",
       "      <th>count</th>\n",
       "      <td>45211.000000</td>\n",
       "      <td>45211</td>\n",
       "      <td>45211</td>\n",
       "      <td>45211</td>\n",
       "      <td>45211</td>\n",
       "      <td>45211.000000</td>\n",
       "      <td>45211</td>\n",
       "      <td>45211</td>\n",
       "      <td>45211</td>\n",
       "      <td>45211.000000</td>\n",
       "      <td>45211</td>\n",
       "      <td>45211.000000</td>\n",
       "      <td>45211.000000</td>\n",
       "      <td>45211.000000</td>\n",
       "      <td>45211.000000</td>\n",
       "      <td>45211</td>\n",
       "      <td>45211</td>\n",
       "    </tr>\n",
       "    <tr>\n",
       "      <th>unique</th>\n",
       "      <td>NaN</td>\n",
       "      <td>12</td>\n",
       "      <td>3</td>\n",
       "      <td>4</td>\n",
       "      <td>2</td>\n",
       "      <td>NaN</td>\n",
       "      <td>2</td>\n",
       "      <td>2</td>\n",
       "      <td>3</td>\n",
       "      <td>NaN</td>\n",
       "      <td>12</td>\n",
       "      <td>NaN</td>\n",
       "      <td>NaN</td>\n",
       "      <td>NaN</td>\n",
       "      <td>NaN</td>\n",
       "      <td>4</td>\n",
       "      <td>2</td>\n",
       "    </tr>\n",
       "    <tr>\n",
       "      <th>top</th>\n",
       "      <td>NaN</td>\n",
       "      <td>blue-collar</td>\n",
       "      <td>married</td>\n",
       "      <td>secondary</td>\n",
       "      <td>no</td>\n",
       "      <td>NaN</td>\n",
       "      <td>yes</td>\n",
       "      <td>no</td>\n",
       "      <td>cellular</td>\n",
       "      <td>NaN</td>\n",
       "      <td>may</td>\n",
       "      <td>NaN</td>\n",
       "      <td>NaN</td>\n",
       "      <td>NaN</td>\n",
       "      <td>NaN</td>\n",
       "      <td>unknown</td>\n",
       "      <td>no</td>\n",
       "    </tr>\n",
       "    <tr>\n",
       "      <th>freq</th>\n",
       "      <td>NaN</td>\n",
       "      <td>9732</td>\n",
       "      <td>27214</td>\n",
       "      <td>23202</td>\n",
       "      <td>44396</td>\n",
       "      <td>NaN</td>\n",
       "      <td>25130</td>\n",
       "      <td>37967</td>\n",
       "      <td>29285</td>\n",
       "      <td>NaN</td>\n",
       "      <td>13766</td>\n",
       "      <td>NaN</td>\n",
       "      <td>NaN</td>\n",
       "      <td>NaN</td>\n",
       "      <td>NaN</td>\n",
       "      <td>36959</td>\n",
       "      <td>39922</td>\n",
       "    </tr>\n",
       "    <tr>\n",
       "      <th>mean</th>\n",
       "      <td>40.936210</td>\n",
       "      <td>NaN</td>\n",
       "      <td>NaN</td>\n",
       "      <td>NaN</td>\n",
       "      <td>NaN</td>\n",
       "      <td>1362.272058</td>\n",
       "      <td>NaN</td>\n",
       "      <td>NaN</td>\n",
       "      <td>NaN</td>\n",
       "      <td>15.806419</td>\n",
       "      <td>NaN</td>\n",
       "      <td>258.163080</td>\n",
       "      <td>2.763841</td>\n",
       "      <td>40.197828</td>\n",
       "      <td>0.580323</td>\n",
       "      <td>NaN</td>\n",
       "      <td>NaN</td>\n",
       "    </tr>\n",
       "    <tr>\n",
       "      <th>std</th>\n",
       "      <td>10.618762</td>\n",
       "      <td>NaN</td>\n",
       "      <td>NaN</td>\n",
       "      <td>NaN</td>\n",
       "      <td>NaN</td>\n",
       "      <td>3044.765829</td>\n",
       "      <td>NaN</td>\n",
       "      <td>NaN</td>\n",
       "      <td>NaN</td>\n",
       "      <td>8.322476</td>\n",
       "      <td>NaN</td>\n",
       "      <td>257.527812</td>\n",
       "      <td>3.098021</td>\n",
       "      <td>100.128746</td>\n",
       "      <td>2.303441</td>\n",
       "      <td>NaN</td>\n",
       "      <td>NaN</td>\n",
       "    </tr>\n",
       "    <tr>\n",
       "      <th>min</th>\n",
       "      <td>18.000000</td>\n",
       "      <td>NaN</td>\n",
       "      <td>NaN</td>\n",
       "      <td>NaN</td>\n",
       "      <td>NaN</td>\n",
       "      <td>-8019.000000</td>\n",
       "      <td>NaN</td>\n",
       "      <td>NaN</td>\n",
       "      <td>NaN</td>\n",
       "      <td>1.000000</td>\n",
       "      <td>NaN</td>\n",
       "      <td>0.000000</td>\n",
       "      <td>1.000000</td>\n",
       "      <td>-1.000000</td>\n",
       "      <td>0.000000</td>\n",
       "      <td>NaN</td>\n",
       "      <td>NaN</td>\n",
       "    </tr>\n",
       "    <tr>\n",
       "      <th>25%</th>\n",
       "      <td>33.000000</td>\n",
       "      <td>NaN</td>\n",
       "      <td>NaN</td>\n",
       "      <td>NaN</td>\n",
       "      <td>NaN</td>\n",
       "      <td>72.000000</td>\n",
       "      <td>NaN</td>\n",
       "      <td>NaN</td>\n",
       "      <td>NaN</td>\n",
       "      <td>8.000000</td>\n",
       "      <td>NaN</td>\n",
       "      <td>103.000000</td>\n",
       "      <td>1.000000</td>\n",
       "      <td>-1.000000</td>\n",
       "      <td>0.000000</td>\n",
       "      <td>NaN</td>\n",
       "      <td>NaN</td>\n",
       "    </tr>\n",
       "    <tr>\n",
       "      <th>50%</th>\n",
       "      <td>39.000000</td>\n",
       "      <td>NaN</td>\n",
       "      <td>NaN</td>\n",
       "      <td>NaN</td>\n",
       "      <td>NaN</td>\n",
       "      <td>448.000000</td>\n",
       "      <td>NaN</td>\n",
       "      <td>NaN</td>\n",
       "      <td>NaN</td>\n",
       "      <td>16.000000</td>\n",
       "      <td>NaN</td>\n",
       "      <td>180.000000</td>\n",
       "      <td>2.000000</td>\n",
       "      <td>-1.000000</td>\n",
       "      <td>0.000000</td>\n",
       "      <td>NaN</td>\n",
       "      <td>NaN</td>\n",
       "    </tr>\n",
       "    <tr>\n",
       "      <th>75%</th>\n",
       "      <td>48.000000</td>\n",
       "      <td>NaN</td>\n",
       "      <td>NaN</td>\n",
       "      <td>NaN</td>\n",
       "      <td>NaN</td>\n",
       "      <td>1428.000000</td>\n",
       "      <td>NaN</td>\n",
       "      <td>NaN</td>\n",
       "      <td>NaN</td>\n",
       "      <td>21.000000</td>\n",
       "      <td>NaN</td>\n",
       "      <td>319.000000</td>\n",
       "      <td>3.000000</td>\n",
       "      <td>-1.000000</td>\n",
       "      <td>0.000000</td>\n",
       "      <td>NaN</td>\n",
       "      <td>NaN</td>\n",
       "    </tr>\n",
       "    <tr>\n",
       "      <th>max</th>\n",
       "      <td>95.000000</td>\n",
       "      <td>NaN</td>\n",
       "      <td>NaN</td>\n",
       "      <td>NaN</td>\n",
       "      <td>NaN</td>\n",
       "      <td>102127.000000</td>\n",
       "      <td>NaN</td>\n",
       "      <td>NaN</td>\n",
       "      <td>NaN</td>\n",
       "      <td>31.000000</td>\n",
       "      <td>NaN</td>\n",
       "      <td>4918.000000</td>\n",
       "      <td>63.000000</td>\n",
       "      <td>871.000000</td>\n",
       "      <td>275.000000</td>\n",
       "      <td>NaN</td>\n",
       "      <td>NaN</td>\n",
       "    </tr>\n",
       "  </tbody>\n",
       "</table>\n",
       "</div>"
      ],
      "text/plain": [
       "                 age          job  marital  education default        balance  \\\n",
       "count   45211.000000        45211    45211      45211   45211   45211.000000   \n",
       "unique           NaN           12        3          4       2            NaN   \n",
       "top              NaN  blue-collar  married  secondary      no            NaN   \n",
       "freq             NaN         9732    27214      23202   44396            NaN   \n",
       "mean       40.936210          NaN      NaN        NaN     NaN    1362.272058   \n",
       "std        10.618762          NaN      NaN        NaN     NaN    3044.765829   \n",
       "min        18.000000          NaN      NaN        NaN     NaN   -8019.000000   \n",
       "25%        33.000000          NaN      NaN        NaN     NaN      72.000000   \n",
       "50%        39.000000          NaN      NaN        NaN     NaN     448.000000   \n",
       "75%        48.000000          NaN      NaN        NaN     NaN    1428.000000   \n",
       "max        95.000000          NaN      NaN        NaN     NaN  102127.000000   \n",
       "\n",
       "       housing   loan   contact           day  month      duration  \\\n",
       "count    45211  45211     45211  45211.000000  45211  45211.000000   \n",
       "unique       2      2         3           NaN     12           NaN   \n",
       "top        yes     no  cellular           NaN    may           NaN   \n",
       "freq     25130  37967     29285           NaN  13766           NaN   \n",
       "mean       NaN    NaN       NaN     15.806419    NaN    258.163080   \n",
       "std        NaN    NaN       NaN      8.322476    NaN    257.527812   \n",
       "min        NaN    NaN       NaN      1.000000    NaN      0.000000   \n",
       "25%        NaN    NaN       NaN      8.000000    NaN    103.000000   \n",
       "50%        NaN    NaN       NaN     16.000000    NaN    180.000000   \n",
       "75%        NaN    NaN       NaN     21.000000    NaN    319.000000   \n",
       "max        NaN    NaN       NaN     31.000000    NaN   4918.000000   \n",
       "\n",
       "            campaign         pdays      previous poutcome      y  \n",
       "count   45211.000000  45211.000000  45211.000000    45211  45211  \n",
       "unique           NaN           NaN           NaN        4      2  \n",
       "top              NaN           NaN           NaN  unknown     no  \n",
       "freq             NaN           NaN           NaN    36959  39922  \n",
       "mean        2.763841     40.197828      0.580323      NaN    NaN  \n",
       "std         3.098021    100.128746      2.303441      NaN    NaN  \n",
       "min         1.000000     -1.000000      0.000000      NaN    NaN  \n",
       "25%         1.000000     -1.000000      0.000000      NaN    NaN  \n",
       "50%         2.000000     -1.000000      0.000000      NaN    NaN  \n",
       "75%         3.000000     -1.000000      0.000000      NaN    NaN  \n",
       "max        63.000000    871.000000    275.000000      NaN    NaN  "
      ]
     },
     "execution_count": 5,
     "metadata": {},
     "output_type": "execute_result"
    }
   ],
   "source": [
    "df.describe(include='all')"
   ]
  },
  {
   "cell_type": "code",
   "execution_count": 45,
   "id": "b937e2c9",
   "metadata": {},
   "outputs": [
    {
     "data": {
      "text/plain": [
       "age          0\n",
       "job          0\n",
       "marital      0\n",
       "education    0\n",
       "default      0\n",
       "balance      0\n",
       "housing      0\n",
       "loan         0\n",
       "contact      0\n",
       "day          0\n",
       "month        0\n",
       "duration     0\n",
       "campaign     0\n",
       "pdays        0\n",
       "previous     0\n",
       "poutcome     0\n",
       "y            0\n",
       "dtype: int64"
      ]
     },
     "execution_count": 45,
     "metadata": {},
     "output_type": "execute_result"
    }
   ],
   "source": [
    "df.isnull().sum()"
   ]
  },
  {
   "cell_type": "code",
   "execution_count": 6,
   "id": "a273a5ed",
   "metadata": {},
   "outputs": [
    {
     "data": {
      "image/png": "[encoded data removed]",
      "text/plain": [
       "<Figure size 432x288 with 1 Axes>"
      ]
     },
     "metadata": {
      "needs_background": "light"
     },
     "output_type": "display_data"
    },
    {
     "name": "stdout",
     "output_type": "stream",
     "text": [
      "no     0.883015\n",
      "yes    0.116985\n",
      "Name: y, dtype: float64\n"
     ]
    }
   ],
   "source": [
    "import seaborn as sns\n",
    "import matplotlib.pyplot as plt\n",
    "\n",
    "sns.countplot(data=df, x='y')\n",
    "plt.title(\"Target Variable Distribution\")\n",
    "plt.show()\n",
    "\n",
    "print(df['y'].value_counts(normalize=True))"
   ]
  },
  {
   "cell_type": "markdown",
   "id": "64c685c9",
   "metadata": {},
   "source": [
    "# Data Cleaning"
   ]
  },
  {
   "cell_type": "markdown",
   "id": "0df44163",
   "metadata": {},
   "source": [
    "### Data Observation\n",
    "| Column    | Type        | Observation                                     | Cleaning Action                                                   |\n",
    "| --------- | ----------- | ----------------------------------------------- | ----------------------------------------------------------------- |\n",
    "| age       | Numerical   | 45,211 values — all present                     | Check for outliers (e.g., age > 90)                               |\n",
    "| job       | Categorical | 12 unique values                                | Look for 'unknown' values; standardize categories                 |\n",
    "| marital   | Categorical | 3 values (e.g., married/single/divorced)        | No cleaning unless 'unknown' exists                               |\n",
    "| education | Categorical | 4 values                                        | Often contains 'unknown'; clean or encode accordingly             |\n",
    "| default   | Categorical | 2 values                                        | Often includes 'unknown'; evaluate meaning and recode             |\n",
    "| balance   | Numerical   | Continuous values                               | Consider outlier treatment (e.g., very high or negative balances) |\n",
    "| housing   | Categorical | 2 values (yes/no)                               | Check for 'unknown'                                               |\n",
    "| loan      | Categorical | 2 values (yes/no)                               | Same as above                                                     |\n",
    "| contact   | Categorical | 3 values (cellular, telephone, unknown)         | unknown' should be treated or excluded                            |\n",
    "| day       | Numerical   | Day of the month (1–31)                         | No cleaning needed unless used in feature engineering             |\n",
    "| month     | Categorical | 12 values                                       | Map month names to ordinal (e.g., Jan=1) if needed                |\n",
    "| duration  | Numerical   | Call duration                                   | Must be dropped during training (leakage)                         |\n",
    "| campaign  | Numerical   | Number of contacts during this campaign         | Consider for outlier check                                        |\n",
    "| pdays     | Numerical   | 999 = not contacted in previous campaign        | Use with care; 999 is not \"missing\" but needs semantic handling   |\n",
    "| previous  | Numerical   | Past campaign contacts                          | Keep as is; useful for modeling                                   |\n",
    "| poutcome  | Categorical | 4 values (success, failure, other, nonexistent) | nonexistent is not missing — treat as a valid category            |\n",
    "| y         | Target      | 2 values (yes, no)                              | Convert to binary (1 = yes, 0 = no)                               |"
   ]
  },
  {
   "cell_type": "markdown",
   "id": "b3a4b89b",
   "metadata": {},
   "source": [
    "## Column - age"
   ]
  },
  {
   "cell_type": "code",
   "execution_count": 27,
   "id": "775168f6",
   "metadata": {},
   "outputs": [
    {
     "data": {
      "text/plain": [
       "count    45211.000000\n",
       "mean        40.936210\n",
       "std         10.618762\n",
       "min         18.000000\n",
       "25%         33.000000\n",
       "50%         39.000000\n",
       "75%         48.000000\n",
       "max         95.000000\n",
       "Name: age, dtype: float64"
      ]
     },
     "execution_count": 27,
     "metadata": {},
     "output_type": "execute_result"
    }
   ],
   "source": [
    "# Summary Statistics\n",
    "df['age'].describe()"
   ]
  },
  {
   "cell_type": "code",
   "execution_count": 28,
   "id": "42688883",
   "metadata": {},
   "outputs": [
    {
     "data": {
      "image/png": "[encoded data removed]",
      "text/plain": [
       "<Figure size 432x288 with 1 Axes>"
      ]
     },
     "metadata": {
      "needs_background": "light"
     },
     "output_type": "display_data"
    }
   ],
   "source": [
    "import seaborn as sns\n",
    "import matplotlib.pyplot as plt\n",
    "\n",
    "sns.boxplot(x=df['age'])\n",
    "plt.title(\"Boxplot of Age\")\n",
    "plt.show()"
   ]
  },
  {
   "cell_type": "code",
   "execution_count": null,
   "id": "c8a9ae7e",
   "metadata": {},
   "outputs": [
    {
     "name": "stdout",
     "output_type": "stream",
     "text": [
      "Outlier threshold: age < 10.5 or age > 70.5\n",
      "\n",
      "Number of outliers in age: 487\n",
      "\n",
      "Outlier values:\n",
      "71    54\n",
      "72    52\n",
      "73    44\n",
      "74    37\n",
      "75    39\n",
      "76    32\n",
      "77    44\n",
      "78    30\n",
      "79    25\n",
      "80    31\n",
      "81    17\n",
      "82    19\n",
      "83    22\n",
      "84     9\n",
      "85     5\n",
      "86     9\n",
      "87     4\n",
      "88     2\n",
      "89     3\n",
      "90     2\n",
      "92     2\n",
      "93     2\n",
      "94     1\n",
      "95     2\n",
      "Name: age, dtype: int64\n"
     ]
    }
   ],
   "source": [
    "Q1 = df['age'].quantile(0.25)\n",
    "Q3 = df['age'].quantile(0.75)\n",
    "IQR = Q3 - Q1\n",
    "\n",
    "lower_bound = Q1 - 1.5 * IQR\n",
    "upper_bound = Q3 + 1.5 * IQR\n",
    "\n",
    "print(f\"Outlier threshold: age < {lower_bound:.1f} or age > {upper_bound:.1f}\")\n",
    "\n",
    "#Count outliers\n",
    "outliers = df[(df['age'] < lower_bound) | (df['age'] > upper_bound)]\n",
    "print(f\"\\nNumber of outliers in age: {len(outliers)}\")\n",
    "\n",
    "#Outlier values\n",
    "print(\"\\nOutlier values:\")\n",
    "print(outliers['age'].value_counts().sort_index())"
   ]
  },
  {
   "cell_type": "markdown",
   "id": "ccdc9b15",
   "metadata": {},
   "source": [
    "### Action on Outliers\n",
    "- Option A - Cap or Clip Outliers (This retains all records but limits extreme values.)\n",
    "- Option B - Remove Outliers (This removes a small number of extreme rows, assuming they add noise.)\n",
    "- Option C - Keep As-is\n"
   ]
  },
  {
   "cell_type": "code",
   "execution_count": 34,
   "id": "8d5aefa4",
   "metadata": {},
   "outputs": [],
   "source": [
    "# Option C\n",
    "df = df[(df['age'] >= lower_bound) & (df['age'] <= upper_bound)]\n",
    "# Option A\n",
    "#df['age'] = df['age'].clip(lower=lower_bound, upper=upper_bound)"
   ]
  },
  {
   "cell_type": "markdown",
   "id": "0596dc0d",
   "metadata": {},
   "source": [
    "## Column - Job"
   ]
  },
  {
   "cell_type": "code",
   "execution_count": null,
   "id": "49a00952",
   "metadata": {},
   "outputs": [
    {
     "data": {
      "text/plain": [
       "blue-collar      9732\n",
       "management       9458\n",
       "technician       7597\n",
       "admin.           5171\n",
       "services         4154\n",
       "retired          2264\n",
       "self-employed    1579\n",
       "entrepreneur     1487\n",
       "unemployed       1303\n",
       "housemaid        1240\n",
       "student           938\n",
       "unknown           288\n",
       "Name: job, dtype: int64"
      ]
     },
     "execution_count": 16,
     "metadata": {},
     "output_type": "execute_result"
    }
   ],
   "source": [
    "# Check for typos, formatting issues, and 'unknown' entries.\n",
    "#df['job'].value_counts()\n",
    "df['job'].value_counts(normalize=True).mul(100).round(2).astype(str) + '%'"
   ]
  },
  {
   "cell_type": "code",
   "execution_count": 18,
   "id": "2710849f",
   "metadata": {},
   "outputs": [],
   "source": [
    "# Standardize 'job' column\n",
    "df['job'] = df['job'].str.lower().str.strip()\n",
    "df['job'] = df['job'].replace('admin.', 'admin')"
   ]
  },
  {
   "cell_type": "markdown",
   "id": "2e132d52",
   "metadata": {},
   "source": [
    "Handle 'unknown' Values\n",
    "- Option A: Replace 'unknown' with the most frequent job (mode)\n",
    "- Option B: Keep 'unknown' as a separate category\n",
    "- Option C: Drop rows with 'unknown'"
   ]
  },
  {
   "cell_type": "code",
   "execution_count": 20,
   "id": "fc941430",
   "metadata": {},
   "outputs": [
    {
     "name": "stdout",
     "output_type": "stream",
     "text": [
      " Most common job blue-collar\n"
     ]
    }
   ],
   "source": [
    "# Option A\n",
    "most_common_job = df['job'].mode()[0]\n",
    "print(f\" Most common job {most_common_job}\")\n",
    "df['job'] = df['job'].replace('unknown', most_common_job)\n",
    "\n",
    "# Option C\n",
    "# df = df[df['job'] != 'unknown']"
   ]
  },
  {
   "cell_type": "markdown",
   "id": "4a6d4f47",
   "metadata": {},
   "source": [
    "## Column - education"
   ]
  },
  {
   "cell_type": "code",
   "execution_count": 26,
   "id": "e99150a6",
   "metadata": {},
   "outputs": [
    {
     "data": {
      "text/plain": [
       "secondary    55.43%\n",
       "tertiary     29.42%\n",
       "primary      15.15%\n",
       "Name: education, dtype: object"
      ]
     },
     "execution_count": 26,
     "metadata": {},
     "output_type": "execute_result"
    }
   ],
   "source": [
    "#df['education'].value_counts()\n",
    "df['education'].value_counts(normalize=True).mul(100).round(2).astype(str) + '%'"
   ]
  },
  {
   "cell_type": "code",
   "execution_count": 23,
   "id": "b4894c2e",
   "metadata": {},
   "outputs": [
    {
     "name": "stdout",
     "output_type": "stream",
     "text": [
      " Most common education secondary\n"
     ]
    }
   ],
   "source": [
    "# Option A\n",
    "most_common_edu = df['education'].mode()[0]\n",
    "print(f\" Most common education {most_common_edu}\")\n",
    "df['education'] = df['education'].replace('unknown', most_common_edu)\n",
    "\n",
    "# Option C\n",
    "# df = df[df['education'] != 'unknown']"
   ]
  },
  {
   "cell_type": "markdown",
   "id": "af2c0e18",
   "metadata": {},
   "source": [
    "## Column - contact"
   ]
  },
  {
   "cell_type": "code",
   "execution_count": 39,
   "id": "dc5d65e1",
   "metadata": {},
   "outputs": [
    {
     "data": {
      "text/plain": [
       "cellular     64.89%\n",
       "unknown      29.11%\n",
       "telephone      6.0%\n",
       "Name: contact, dtype: object"
      ]
     },
     "execution_count": 39,
     "metadata": {},
     "output_type": "execute_result"
    }
   ],
   "source": [
    "df['contact'].value_counts(normalize=True).mul(100).round(2).astype(str) + '%'"
   ]
  },
  {
   "cell_type": "code",
   "execution_count": 40,
   "id": "da503b42",
   "metadata": {},
   "outputs": [
    {
     "name": "stdout",
     "output_type": "stream",
     "text": [
      " Most common education cellular\n"
     ]
    }
   ],
   "source": [
    "# Option A\n",
    "most_common_contact = df['contact'].mode()[0]\n",
    "print(f\" Most common education {most_common_contact}\")\n",
    "df['contact'] = df['contact'].replace('unknown', most_common_contact)\n",
    "\n",
    "# Option C - Not recommended , we may lose lot of valuable data here\n",
    "# df = df[df['education'] != 'unknown']"
   ]
  },
  {
   "cell_type": "markdown",
   "id": "e36d35f7",
   "metadata": {},
   "source": [
    "## Column - balance"
   ]
  },
  {
   "cell_type": "code",
   "execution_count": 41,
   "id": "7ea58b24",
   "metadata": {},
   "outputs": [
    {
     "data": {
      "text/plain": [
       "count     44724.000000\n",
       "mean       1345.344491\n",
       "std        2983.219087\n",
       "min       -8019.000000\n",
       "25%          71.000000\n",
       "50%         442.000000\n",
       "75%        1408.000000\n",
       "max      102127.000000\n",
       "Name: balance, dtype: float64"
      ]
     },
     "execution_count": 41,
     "metadata": {},
     "output_type": "execute_result"
    }
   ],
   "source": [
    "df['balance'].describe()"
   ]
  },
  {
   "cell_type": "code",
   "execution_count": 42,
   "id": "160e8871",
   "metadata": {},
   "outputs": [
    {
     "name": "stdout",
     "output_type": "stream",
     "text": [
      "Outlier threshold: balance < -1934.5 or balance > 3413.5\n",
      "\n",
      "Number of outliers in balance: 4696\n",
      "\n",
      "Outlier values:\n",
      "-8019      1\n",
      "-6847      1\n",
      "-4057      1\n",
      "-3372      1\n",
      "-3313      1\n",
      "          ..\n",
      " 66653     1\n",
      " 66721     1\n",
      " 71188     1\n",
      " 98417     1\n",
      " 102127    1\n",
      "Name: balance, Length: 3002, dtype: int64\n"
     ]
    }
   ],
   "source": [
    "Q1 = df['balance'].quantile(0.25)\n",
    "Q3 = df['balance'].quantile(0.75)\n",
    "IQR = Q3 - Q1\n",
    "\n",
    "lower_bound = Q1 - 1.5 * IQR\n",
    "upper_bound = Q3 + 1.5 * IQR\n",
    "\n",
    "print(f\"Outlier threshold: balance < {lower_bound:.1f} or balance > {upper_bound:.1f}\")\n",
    "\n",
    "#Count outliers\n",
    "outliers = df[(df['balance'] < lower_bound) | (df['balance'] > upper_bound)]\n",
    "print(f\"\\nNumber of outliers in balance: {len(outliers)}\")\n",
    "\n",
    "#Outlier values\n",
    "print(\"\\nOutlier values:\")\n",
    "print(outliers['balance'].value_counts().sort_index())"
   ]
  },
  {
   "cell_type": "markdown",
   "id": "4a409665",
   "metadata": {},
   "source": [
    "### Action on Outliers\n",
    "- Option A - Cap or Clip Outliers (This retains all records but limits extreme values.)\n",
    "- Option B - Remove Outliers (This removes a small number of extreme rows, assuming they add noise.)\n",
    "- Option C - Keep As-is\n",
    "- Option D - Any values below zero (i.e., negative balances) should be converted to 0. This is a practical cleaning step, especially if negative balances don't have business relevance or could bias the model.\n"
   ]
  },
  {
   "cell_type": "code",
   "execution_count": 43,
   "id": "7a362e47",
   "metadata": {},
   "outputs": [],
   "source": [
    "import numpy as np\n",
    "df['balance'] = np.where(df['balance'] < 0, 0, df['balance'])"
   ]
  },
  {
   "cell_type": "code",
   "execution_count": 44,
   "id": "f726b977",
   "metadata": {},
   "outputs": [
    {
     "data": {
      "text/plain": [
       "count     44724.000000\n",
       "mean       1372.094647\n",
       "std        2967.649251\n",
       "min           0.000000\n",
       "25%          71.000000\n",
       "50%         442.000000\n",
       "75%        1408.000000\n",
       "max      102127.000000\n",
       "Name: balance, dtype: float64"
      ]
     },
     "execution_count": 44,
     "metadata": {},
     "output_type": "execute_result"
    }
   ],
   "source": [
    "df['balance'].describe()"
   ]
  },
  {
   "cell_type": "markdown",
   "id": "b9e7206c",
   "metadata": {},
   "source": [
    "## Column - month"
   ]
  },
  {
   "cell_type": "code",
   "execution_count": 61,
   "id": "6048f013",
   "metadata": {},
   "outputs": [
    {
     "name": "stdout",
     "output_type": "stream",
     "text": [
      "Invalid months found: 0\n"
     ]
    }
   ],
   "source": [
    "month_mapping = ['jan', 'feb', 'mar', 'apr', 'may', 'jun',\n",
    "                'jul', 'aug', 'sep', 'oct', 'nov', 'dec']\n",
    "invalid_months = df[~df['month'].isin(month_mapping)]\n",
    "print(f\"Invalid months found: {len(invalid_months)}\")"
   ]
  },
  {
   "cell_type": "code",
   "execution_count": 62,
   "id": "b34f6058",
   "metadata": {},
   "outputs": [
    {
     "data": {
      "text/plain": [
       "may    30.45%\n",
       "jul    15.25%\n",
       "aug    13.82%\n",
       "jun    11.81%\n",
       "nov     8.78%\n",
       "apr     6.49%\n",
       "feb     5.86%\n",
       "jan      3.1%\n",
       "oct     1.63%\n",
       "sep     1.28%\n",
       "mar     1.06%\n",
       "dec     0.47%\n",
       "Name: month, dtype: object"
      ]
     },
     "execution_count": 62,
     "metadata": {},
     "output_type": "execute_result"
    }
   ],
   "source": [
    "#df['month'].value_counts()\n",
    "df['month'].value_counts(normalize=True).mul(100).round(2).astype(str) + '%'"
   ]
  },
  {
   "cell_type": "code",
   "execution_count": 63,
   "id": "6ecefbf5",
   "metadata": {},
   "outputs": [
    {
     "data": {
      "text/plain": [
       "0         5\n",
       "1         5\n",
       "2         5\n",
       "3         5\n",
       "4         5\n",
       "         ..\n",
       "45206    11\n",
       "45207    11\n",
       "45208    11\n",
       "45209    11\n",
       "45210    11\n",
       "Name: month, Length: 45211, dtype: int64"
      ]
     },
     "execution_count": 63,
     "metadata": {},
     "output_type": "execute_result"
    }
   ],
   "source": [
    "# Create a copy of the Original month Column\n",
    "df['month_text'] = df['month']\n",
    "# map months to ordinal values\n",
    "month_mapping = {\n",
    "    'jan': 1, 'feb': 2, 'mar': 3, 'apr': 4,\n",
    "    'may': 5, 'jun': 6, 'jul': 7, 'aug': 8,\n",
    "    'sep': 9, 'oct': 10, 'nov': 11, 'dec': 12\n",
    "}\n",
    "\n",
    "df['month'] = df['month'].map(month_mapping)\n",
    "df['month']\n"
   ]
  },
  {
   "cell_type": "markdown",
   "id": "610bec61",
   "metadata": {},
   "source": [
    "## Column - campaign"
   ]
  },
  {
   "cell_type": "code",
   "execution_count": 67,
   "id": "4c70cdef",
   "metadata": {},
   "outputs": [
    {
     "data": {
      "text/plain": [
       "count    45211.000000\n",
       "mean         2.763841\n",
       "std          3.098021\n",
       "min          1.000000\n",
       "25%          1.000000\n",
       "50%          2.000000\n",
       "75%          3.000000\n",
       "max         63.000000\n",
       "Name: campaign, dtype: float64"
      ]
     },
     "execution_count": 67,
     "metadata": {},
     "output_type": "execute_result"
    }
   ],
   "source": [
    "df['campaign'].describe()"
   ]
  },
  {
   "cell_type": "code",
   "execution_count": 68,
   "id": "e2f3a428",
   "metadata": {},
   "outputs": [
    {
     "data": {
      "image/png": "[encoded data removed]",
      "text/plain": [
       "<Figure size 432x288 with 1 Axes>"
      ]
     },
     "metadata": {
      "needs_background": "light"
     },
     "output_type": "display_data"
    }
   ],
   "source": [
    "import seaborn as sns\n",
    "import matplotlib.pyplot as plt\n",
    "\n",
    "sns.boxplot(x=df['campaign'])\n",
    "plt.title(\"Boxplot of campaign\")\n",
    "plt.show()"
   ]
  },
  {
   "cell_type": "code",
   "execution_count": 69,
   "id": "53a094a5",
   "metadata": {},
   "outputs": [
    {
     "name": "stdout",
     "output_type": "stream",
     "text": [
      "Outlier threshold: campaign < -2.0 or campaign > 6.0\n",
      "\n",
      "Number of outliers in campaign: 3064\n",
      "\n",
      "Outlier values:\n",
      "7     735\n",
      "8     540\n",
      "9     327\n",
      "10    266\n",
      "11    201\n",
      "12    155\n",
      "13    133\n",
      "14     93\n",
      "15     84\n",
      "16     79\n",
      "17     69\n",
      "18     51\n",
      "19     44\n",
      "20     43\n",
      "21     35\n",
      "22     23\n",
      "23     22\n",
      "24     20\n",
      "25     22\n",
      "26     13\n",
      "27     10\n",
      "28     16\n",
      "29     16\n",
      "30      8\n",
      "31     12\n",
      "32      9\n",
      "33      6\n",
      "34      5\n",
      "35      4\n",
      "36      4\n",
      "37      2\n",
      "38      3\n",
      "39      1\n",
      "41      2\n",
      "43      3\n",
      "44      1\n",
      "46      1\n",
      "50      2\n",
      "51      1\n",
      "55      1\n",
      "58      1\n",
      "63      1\n",
      "Name: campaign, dtype: int64\n"
     ]
    }
   ],
   "source": [
    "Q1 = df['campaign'].quantile(0.25)\n",
    "Q3 = df['campaign'].quantile(0.75)\n",
    "IQR = Q3 - Q1\n",
    "\n",
    "lower_bound = Q1 - 1.5 * IQR\n",
    "upper_bound = Q3 + 1.5 * IQR\n",
    "\n",
    "print(f\"Outlier threshold: campaign < {lower_bound:.1f} or campaign > {upper_bound:.1f}\")\n",
    "\n",
    "#Count outliers\n",
    "outliers = df[(df['campaign'] < lower_bound) | (df['campaign'] > upper_bound)]\n",
    "print(f\"\\nNumber of outliers in campaign: {len(outliers)}\")\n",
    "\n",
    "#Outlier values\n",
    "print(\"\\nOutlier values:\")\n",
    "print(outliers['campaign'].value_counts().sort_index())"
   ]
  },
  {
   "cell_type": "code",
   "execution_count": 70,
   "id": "24a243f6",
   "metadata": {},
   "outputs": [
    {
     "name": "stdout",
     "output_type": "stream",
     "text": [
      "Values below 0: 0\n",
      "Values above 6: 3064\n"
     ]
    }
   ],
   "source": [
    "print(\"Values below 0:\", (df['campaign'] < 0).sum())\n",
    "print(\"Values above 6:\", (df['campaign'] > 6).sum())"
   ]
  },
  {
   "cell_type": "code",
   "execution_count": 73,
   "id": "8ee687d6",
   "metadata": {},
   "outputs": [],
   "source": [
    "# Option A - Cap the Values\n",
    "#df['campaign'] = df['campaign'].clip(lower=0, upper=6)\n",
    "# Option B - Create a binned version\n",
    "#df['campaign_group'] = pd.cut(\n",
    "#    df['campaign'],\n",
    "#    bins=[0, 2, 6, df['campaign'].max()],\n",
    "#    labels=['low', 'medium', 'high'],\n",
    "#    right=True\n",
    "#)"
   ]
  },
  {
   "cell_type": "markdown",
   "id": "cf70b96a",
   "metadata": {},
   "source": [
    "## Columns left without any pre-processing \n",
    "- ***martial*** - No cleaning required, as no 'unknown' or null values found\n",
    "- ***default*** - No cleaning required, as no 'unknown' or null values found\n",
    "- ***housing*** - No cleaning required, as no 'unknown' or null values found\n",
    "- ***loan*** - No cleaning required, as no 'unknown' or null values found\n",
    "- ***day*** - No cleaning required, as no 'unknown' or null or invalid values found\n",
    "- ***duration*** - No impact on the training. ***???? Need to confirm with team*** - The duration column, although highly predictive, is excluded from model training to avoid data leakage. Since it reflects the length of a call that has already happened, it is not available at prediction time and would result in an unrealistic model performance if included."
   ]
  },
  {
   "cell_type": "code",
   "execution_count": 49,
   "id": "594b8faa",
   "metadata": {},
   "outputs": [
    {
     "name": "stdout",
     "output_type": "stream",
     "text": [
      "Number of invalid day values: 0\n"
     ]
    }
   ],
   "source": [
    "invalid_days = df[(df['day'] < 1) | (df['day'] > 31)]\n",
    "print(f\"Number of invalid day values: {len(invalid_days)}\")"
   ]
  },
  {
   "cell_type": "code",
   "execution_count": 64,
   "id": "b87b8bf8",
   "metadata": {},
   "outputs": [
    {
     "data": {
      "text/plain": [
       "count    45211.000000\n",
       "mean       258.163080\n",
       "std        257.527812\n",
       "min          0.000000\n",
       "25%        103.000000\n",
       "50%        180.000000\n",
       "75%        319.000000\n",
       "max       4918.000000\n",
       "Name: duration, dtype: float64"
      ]
     },
     "execution_count": 64,
     "metadata": {},
     "output_type": "execute_result"
    }
   ],
   "source": [
    "df['duration'].describe()"
   ]
  },
  {
   "cell_type": "code",
   "execution_count": 65,
   "id": "bbe12173",
   "metadata": {},
   "outputs": [
    {
     "data": {
      "image/png": "[encoded data removed]",
      "text/plain": [
       "<Figure size 432x288 with 1 Axes>"
      ]
     },
     "metadata": {
      "needs_background": "light"
     },
     "output_type": "display_data"
    }
   ],
   "source": [
    "import seaborn as sns\n",
    "import matplotlib.pyplot as plt\n",
    "\n",
    "sns.boxplot(x=df['duration'])\n",
    "plt.title(\"Boxplot of duration\")\n",
    "plt.show()"
   ]
  },
  {
   "cell_type": "code",
   "execution_count": 66,
   "id": "43898dc6",
   "metadata": {},
   "outputs": [
    {
     "name": "stdout",
     "output_type": "stream",
     "text": [
      "Outlier threshold: duration < -221.0 or duration > 643.0\n",
      "\n",
      "Number of outliers in duration: 3235\n",
      "\n",
      "Outlier values:\n",
      "644     13\n",
      "645     15\n",
      "646      7\n",
      "647      8\n",
      "648      9\n",
      "        ..\n",
      "3366     1\n",
      "3422     1\n",
      "3785     1\n",
      "3881     1\n",
      "4918     1\n",
      "Name: duration, Length: 929, dtype: int64\n"
     ]
    }
   ],
   "source": [
    "Q1 = df['duration'].quantile(0.25)\n",
    "Q3 = df['duration'].quantile(0.75)\n",
    "IQR = Q3 - Q1\n",
    "\n",
    "lower_bound = Q1 - 1.5 * IQR\n",
    "upper_bound = Q3 + 1.5 * IQR\n",
    "\n",
    "print(f\"Outlier threshold: duration < {lower_bound:.1f} or duration > {upper_bound:.1f}\")\n",
    "\n",
    "#Count outliers\n",
    "outliers = df[(df['duration'] < lower_bound) | (df['duration'] > upper_bound)]\n",
    "print(f\"\\nNumber of outliers in duration: {len(outliers)}\")\n",
    "\n",
    "#Outlier values\n",
    "print(\"\\nOutlier values:\")\n",
    "print(outliers['duration'].value_counts().sort_index())"
   ]
  },
  {
   "cell_type": "markdown",
   "id": "5ff973ad",
   "metadata": {},
   "source": [
    "# Understanding Contact History"
   ]
  },
  {
   "cell_type": "markdown",
   "id": "c55d6a0c",
   "metadata": {},
   "source": [
    "### Purpose of Contact History Analysis\n",
    "This contact history analysis—using previous, pdays, and poutcome—is performed to better understand the nature of client engagement in past campaigns. The goal is to determine which segments of the data are meaningful for training the classification model."
   ]
  },
  {
   "cell_type": "code",
   "execution_count": 7,
   "id": "5d51ed66",
   "metadata": {},
   "outputs": [
    {
     "name": "stdout",
     "output_type": "stream",
     "text": [
      "unknown    3386\n",
      "success     978\n",
      "failure     618\n",
      "other       307\n",
      "Name: poutcome, dtype: int64\n"
     ]
    }
   ],
   "source": [
    "# Filter rows where y = 'yes' and check poutcome\n",
    "subset = df[df['y'] == 'yes']\n",
    "\n",
    "# Unique values in poutcome where y is yes\n",
    "print(subset['poutcome'].value_counts())"
   ]
  },
  {
   "cell_type": "markdown",
   "id": "4053b2c9",
   "metadata": {},
   "source": [
    "### Key Insights\n",
    "While analyzing the dataset, it was observed that the `poutcome` (outcome of the previous marketing campaign) ***does not always equal 'success'*** for records where **'y = 'yes'**. This indicates that a successful subscription can still occur even if the previous campaign was unsuccessful or nonexistent.\n",
    "\n",
    "Implication:\n",
    "The poutcome variable should be treated as an independent feature, and not assumed to fully determine the current outcome y. Model training should not rely on a strict dependency between these two fields, and such records should be retained as-is to preserve data integrity and variability."
   ]
  },
  {
   "cell_type": "code",
   "execution_count": 13,
   "id": "9f341904",
   "metadata": {},
   "outputs": [
    {
     "data": {
      "image/png": "[encoded data removed]",
      "text/plain": [
       "<Figure size 432x288 with 1 Axes>"
      ]
     },
     "metadata": {
      "needs_background": "light"
     },
     "output_type": "display_data"
    }
   ],
   "source": [
    "import seaborn as sns\n",
    "import matplotlib.pyplot as plt\n",
    "\n",
    "sns.histplot(df['previous'], bins=5, kde=False)\n",
    "plt.title(\"Distribution of Previous Contacts\")\n",
    "plt.xlabel(\"Number of Previous Contacts\")\n",
    "plt.ylabel(\"Count\")\n",
    "plt.show()"
   ]
  },
  {
   "cell_type": "code",
   "execution_count": 14,
   "id": "0a3be133",
   "metadata": {},
   "outputs": [],
   "source": [
    "import pandas as pd\n",
    "\n",
    "# Group by previous and check conversion rate\n",
    "conversion_by_previous = df.groupby('previous')['y'].value_counts(normalize=True).unstack()"
   ]
  },
  {
   "cell_type": "markdown",
   "id": "14cec61e",
   "metadata": {},
   "source": [
    "How the above Code works ?\n",
    "1. Groups the dataset by the values in the previous column and selects the y values within each group.\n",
    "2. For each group, it counts the occurrences of yes and no, and with normalize=True, it converts the counts to proportions (i.e., relative frequency within each group).\n",
    "3. Transforms the result from multi-indexed series into a DataFrame, where:\n",
    "\n",
    "    - Rows are previous values (0, 1, 2, ...)\n",
    "    - Columns are the target classes: 'yes' and 'no'\n",
    "    - Values are the proportions (fractions from above)\n"
   ]
  },
  {
   "cell_type": "code",
   "execution_count": 15,
   "id": "db27a0f7",
   "metadata": {},
   "outputs": [
    {
     "data": {
      "text/html": [
       "<div>\n",
       "<style scoped>\n",
       "    .dataframe tbody tr th:only-of-type {\n",
       "        vertical-align: middle;\n",
       "    }\n",
       "\n",
       "    .dataframe tbody tr th {\n",
       "        vertical-align: top;\n",
       "    }\n",
       "\n",
       "    .dataframe thead th {\n",
       "        text-align: right;\n",
       "    }\n",
       "</style>\n",
       "<table border=\"1\" class=\"dataframe\">\n",
       "  <thead>\n",
       "    <tr style=\"text-align: right;\">\n",
       "      <th>y</th>\n",
       "      <th>no</th>\n",
       "      <th>yes</th>\n",
       "    </tr>\n",
       "    <tr>\n",
       "      <th>previous</th>\n",
       "      <th></th>\n",
       "      <th></th>\n",
       "    </tr>\n",
       "  </thead>\n",
       "  <tbody>\n",
       "    <tr>\n",
       "      <th>0</th>\n",
       "      <td>0.908427</td>\n",
       "      <td>0.091573</td>\n",
       "    </tr>\n",
       "    <tr>\n",
       "      <th>1</th>\n",
       "      <td>0.789683</td>\n",
       "      <td>0.210317</td>\n",
       "    </tr>\n",
       "    <tr>\n",
       "      <th>2</th>\n",
       "      <td>0.783476</td>\n",
       "      <td>0.216524</td>\n",
       "    </tr>\n",
       "    <tr>\n",
       "      <th>3</th>\n",
       "      <td>0.742557</td>\n",
       "      <td>0.257443</td>\n",
       "    </tr>\n",
       "    <tr>\n",
       "      <th>4</th>\n",
       "      <td>0.760504</td>\n",
       "      <td>0.239496</td>\n",
       "    </tr>\n",
       "    <tr>\n",
       "      <th>5</th>\n",
       "      <td>0.736383</td>\n",
       "      <td>0.263617</td>\n",
       "    </tr>\n",
       "    <tr>\n",
       "      <th>6</th>\n",
       "      <td>0.700361</td>\n",
       "      <td>0.299639</td>\n",
       "    </tr>\n",
       "    <tr>\n",
       "      <th>7</th>\n",
       "      <td>0.736585</td>\n",
       "      <td>0.263415</td>\n",
       "    </tr>\n",
       "    <tr>\n",
       "      <th>8</th>\n",
       "      <td>0.697674</td>\n",
       "      <td>0.302326</td>\n",
       "    </tr>\n",
       "    <tr>\n",
       "      <th>9</th>\n",
       "      <td>0.739130</td>\n",
       "      <td>0.260870</td>\n",
       "    </tr>\n",
       "    <tr>\n",
       "      <th>10</th>\n",
       "      <td>0.611940</td>\n",
       "      <td>0.388060</td>\n",
       "    </tr>\n",
       "    <tr>\n",
       "      <th>11</th>\n",
       "      <td>0.769231</td>\n",
       "      <td>0.230769</td>\n",
       "    </tr>\n",
       "    <tr>\n",
       "      <th>12</th>\n",
       "      <td>0.772727</td>\n",
       "      <td>0.227273</td>\n",
       "    </tr>\n",
       "    <tr>\n",
       "      <th>13</th>\n",
       "      <td>0.763158</td>\n",
       "      <td>0.236842</td>\n",
       "    </tr>\n",
       "    <tr>\n",
       "      <th>14</th>\n",
       "      <td>0.736842</td>\n",
       "      <td>0.263158</td>\n",
       "    </tr>\n",
       "    <tr>\n",
       "      <th>15</th>\n",
       "      <td>0.950000</td>\n",
       "      <td>0.050000</td>\n",
       "    </tr>\n",
       "    <tr>\n",
       "      <th>16</th>\n",
       "      <td>1.000000</td>\n",
       "      <td>NaN</td>\n",
       "    </tr>\n",
       "    <tr>\n",
       "      <th>17</th>\n",
       "      <td>0.800000</td>\n",
       "      <td>0.200000</td>\n",
       "    </tr>\n",
       "    <tr>\n",
       "      <th>18</th>\n",
       "      <td>1.000000</td>\n",
       "      <td>NaN</td>\n",
       "    </tr>\n",
       "    <tr>\n",
       "      <th>19</th>\n",
       "      <td>0.818182</td>\n",
       "      <td>0.181818</td>\n",
       "    </tr>\n",
       "    <tr>\n",
       "      <th>20</th>\n",
       "      <td>0.875000</td>\n",
       "      <td>0.125000</td>\n",
       "    </tr>\n",
       "    <tr>\n",
       "      <th>21</th>\n",
       "      <td>0.750000</td>\n",
       "      <td>0.250000</td>\n",
       "    </tr>\n",
       "    <tr>\n",
       "      <th>22</th>\n",
       "      <td>0.833333</td>\n",
       "      <td>0.166667</td>\n",
       "    </tr>\n",
       "    <tr>\n",
       "      <th>23</th>\n",
       "      <td>0.875000</td>\n",
       "      <td>0.125000</td>\n",
       "    </tr>\n",
       "    <tr>\n",
       "      <th>24</th>\n",
       "      <td>1.000000</td>\n",
       "      <td>NaN</td>\n",
       "    </tr>\n",
       "    <tr>\n",
       "      <th>25</th>\n",
       "      <td>1.000000</td>\n",
       "      <td>NaN</td>\n",
       "    </tr>\n",
       "    <tr>\n",
       "      <th>26</th>\n",
       "      <td>0.500000</td>\n",
       "      <td>0.500000</td>\n",
       "    </tr>\n",
       "    <tr>\n",
       "      <th>27</th>\n",
       "      <td>1.000000</td>\n",
       "      <td>NaN</td>\n",
       "    </tr>\n",
       "    <tr>\n",
       "      <th>28</th>\n",
       "      <td>1.000000</td>\n",
       "      <td>NaN</td>\n",
       "    </tr>\n",
       "    <tr>\n",
       "      <th>29</th>\n",
       "      <td>0.750000</td>\n",
       "      <td>0.250000</td>\n",
       "    </tr>\n",
       "    <tr>\n",
       "      <th>30</th>\n",
       "      <td>0.666667</td>\n",
       "      <td>0.333333</td>\n",
       "    </tr>\n",
       "    <tr>\n",
       "      <th>32</th>\n",
       "      <td>1.000000</td>\n",
       "      <td>NaN</td>\n",
       "    </tr>\n",
       "    <tr>\n",
       "      <th>35</th>\n",
       "      <td>1.000000</td>\n",
       "      <td>NaN</td>\n",
       "    </tr>\n",
       "    <tr>\n",
       "      <th>37</th>\n",
       "      <td>1.000000</td>\n",
       "      <td>NaN</td>\n",
       "    </tr>\n",
       "    <tr>\n",
       "      <th>38</th>\n",
       "      <td>1.000000</td>\n",
       "      <td>NaN</td>\n",
       "    </tr>\n",
       "    <tr>\n",
       "      <th>40</th>\n",
       "      <td>1.000000</td>\n",
       "      <td>NaN</td>\n",
       "    </tr>\n",
       "    <tr>\n",
       "      <th>41</th>\n",
       "      <td>1.000000</td>\n",
       "      <td>NaN</td>\n",
       "    </tr>\n",
       "    <tr>\n",
       "      <th>51</th>\n",
       "      <td>1.000000</td>\n",
       "      <td>NaN</td>\n",
       "    </tr>\n",
       "    <tr>\n",
       "      <th>55</th>\n",
       "      <td>NaN</td>\n",
       "      <td>1.000000</td>\n",
       "    </tr>\n",
       "    <tr>\n",
       "      <th>58</th>\n",
       "      <td>NaN</td>\n",
       "      <td>1.000000</td>\n",
       "    </tr>\n",
       "    <tr>\n",
       "      <th>275</th>\n",
       "      <td>1.000000</td>\n",
       "      <td>NaN</td>\n",
       "    </tr>\n",
       "  </tbody>\n",
       "</table>\n",
       "</div>"
      ],
      "text/plain": [
       "y               no       yes\n",
       "previous                    \n",
       "0         0.908427  0.091573\n",
       "1         0.789683  0.210317\n",
       "2         0.783476  0.216524\n",
       "3         0.742557  0.257443\n",
       "4         0.760504  0.239496\n",
       "5         0.736383  0.263617\n",
       "6         0.700361  0.299639\n",
       "7         0.736585  0.263415\n",
       "8         0.697674  0.302326\n",
       "9         0.739130  0.260870\n",
       "10        0.611940  0.388060\n",
       "11        0.769231  0.230769\n",
       "12        0.772727  0.227273\n",
       "13        0.763158  0.236842\n",
       "14        0.736842  0.263158\n",
       "15        0.950000  0.050000\n",
       "16        1.000000       NaN\n",
       "17        0.800000  0.200000\n",
       "18        1.000000       NaN\n",
       "19        0.818182  0.181818\n",
       "20        0.875000  0.125000\n",
       "21        0.750000  0.250000\n",
       "22        0.833333  0.166667\n",
       "23        0.875000  0.125000\n",
       "24        1.000000       NaN\n",
       "25        1.000000       NaN\n",
       "26        0.500000  0.500000\n",
       "27        1.000000       NaN\n",
       "28        1.000000       NaN\n",
       "29        0.750000  0.250000\n",
       "30        0.666667  0.333333\n",
       "32        1.000000       NaN\n",
       "35        1.000000       NaN\n",
       "37        1.000000       NaN\n",
       "38        1.000000       NaN\n",
       "40        1.000000       NaN\n",
       "41        1.000000       NaN\n",
       "51        1.000000       NaN\n",
       "55             NaN  1.000000\n",
       "58             NaN  1.000000\n",
       "275       1.000000       NaN"
      ]
     },
     "execution_count": 15,
     "metadata": {},
     "output_type": "execute_result"
    }
   ],
   "source": [
    "conversion_by_previous"
   ]
  },
  {
   "cell_type": "markdown",
   "id": "9933010d",
   "metadata": {},
   "source": [
    "### Key Insights\n",
    "Analysis of the previous variable shows a clear trend: clients with at least one prior contact are significantly more likely to subscribe. While first-time contacts (previous = 0) convert at only ~9%, ***the conversion rate increases steadily with repeated prior contact***, peaking around 5 previous attempts. However, cases like previous = 7 with 100% \"no\" responses may indicate diminishing returns or sample bias. This feature is a strong predictor and should be retained during modeling."
   ]
  },
  {
   "cell_type": "code",
   "execution_count": 12,
   "id": "c1a74b44",
   "metadata": {},
   "outputs": [
    {
     "data": {
      "image/png": "[encoded data removed]",
      "text/plain": [
       "<Figure size 432x288 with 1 Axes>"
      ]
     },
     "metadata": {
      "needs_background": "light"
     },
     "output_type": "display_data"
    }
   ],
   "source": [
    "# Plot conversion rate for 'yes' by previous contact count\n",
    "conversion_by_previous[1] = conversion_by_previous['yes']\n",
    "conversion_by_previous[1].plot(kind='bar', color='green')\n",
    "plt.title(\"Subscription Rate by Previous Contacts\")\n",
    "plt.ylabel(\"Proportion of 'yes'\")\n",
    "plt.xlabel(\"Number of Previous Contacts\")\n",
    "plt.show()"
   ]
  },
  {
   "cell_type": "code",
   "execution_count": 9,
   "id": "7f37267c",
   "metadata": {},
   "outputs": [
    {
     "data": {
      "text/html": [
       "<div>\n",
       "<style scoped>\n",
       "    .dataframe tbody tr th:only-of-type {\n",
       "        vertical-align: middle;\n",
       "    }\n",
       "\n",
       "    .dataframe tbody tr th {\n",
       "        vertical-align: top;\n",
       "    }\n",
       "\n",
       "    .dataframe thead th {\n",
       "        text-align: right;\n",
       "    }\n",
       "</style>\n",
       "<table border=\"1\" class=\"dataframe\">\n",
       "  <thead>\n",
       "    <tr style=\"text-align: right;\">\n",
       "      <th>poutcome</th>\n",
       "      <th>failure</th>\n",
       "      <th>nonexistent</th>\n",
       "      <th>success</th>\n",
       "    </tr>\n",
       "    <tr>\n",
       "      <th>previous</th>\n",
       "      <th></th>\n",
       "      <th></th>\n",
       "      <th></th>\n",
       "    </tr>\n",
       "  </thead>\n",
       "  <tbody>\n",
       "    <tr>\n",
       "      <th>0</th>\n",
       "      <td>0</td>\n",
       "      <td>35563</td>\n",
       "      <td>0</td>\n",
       "    </tr>\n",
       "    <tr>\n",
       "      <th>1</th>\n",
       "      <td>3696</td>\n",
       "      <td>0</td>\n",
       "      <td>865</td>\n",
       "    </tr>\n",
       "    <tr>\n",
       "      <th>2</th>\n",
       "      <td>434</td>\n",
       "      <td>0</td>\n",
       "      <td>320</td>\n",
       "    </tr>\n",
       "    <tr>\n",
       "      <th>3</th>\n",
       "      <td>88</td>\n",
       "      <td>0</td>\n",
       "      <td>128</td>\n",
       "    </tr>\n",
       "    <tr>\n",
       "      <th>4</th>\n",
       "      <td>30</td>\n",
       "      <td>0</td>\n",
       "      <td>40</td>\n",
       "    </tr>\n",
       "    <tr>\n",
       "      <th>5</th>\n",
       "      <td>3</td>\n",
       "      <td>0</td>\n",
       "      <td>15</td>\n",
       "    </tr>\n",
       "    <tr>\n",
       "      <th>6</th>\n",
       "      <td>1</td>\n",
       "      <td>0</td>\n",
       "      <td>4</td>\n",
       "    </tr>\n",
       "    <tr>\n",
       "      <th>7</th>\n",
       "      <td>0</td>\n",
       "      <td>0</td>\n",
       "      <td>1</td>\n",
       "    </tr>\n",
       "  </tbody>\n",
       "</table>\n",
       "</div>"
      ],
      "text/plain": [
       "poutcome  failure  nonexistent  success\n",
       "previous                               \n",
       "0               0        35563        0\n",
       "1            3696            0      865\n",
       "2             434            0      320\n",
       "3              88            0      128\n",
       "4              30            0       40\n",
       "5               3            0       15\n",
       "6               1            0        4\n",
       "7               0            0        1"
      ]
     },
     "execution_count": 9,
     "metadata": {},
     "output_type": "execute_result"
    }
   ],
   "source": [
    "# Understand how the number of previous contacts relates to the outcome \n",
    "# of those contacts (success, failure, nonexistent).\n",
    "pd.crosstab(df['previous'], df['poutcome'])"
   ]
  },
  {
   "cell_type": "code",
   "execution_count": 10,
   "id": "6ee05154",
   "metadata": {},
   "outputs": [
    {
     "data": {
      "text/plain": [
       "no     0.911678\n",
       "yes    0.088322\n",
       "Name: y, dtype: float64"
      ]
     },
     "execution_count": 10,
     "metadata": {},
     "output_type": "execute_result"
    }
   ],
   "source": [
    "# What’s the success rate among clients with no prior contact history?\n",
    "df[df['previous'] == 0]['y'].value_counts(normalize=True)"
   ]
  },
  {
   "cell_type": "markdown",
   "id": "6d546dfb",
   "metadata": {},
   "source": [
    "### Key Insights\n",
    "Out of all clients contacted for the first time, only ~8.8% subscribed to a term deposit.\n",
    "That means ~91.2% said \"no\" — a high rejection rate.\n",
    "This suggests that:\n",
    "- Cold calling is not very effective on its own.\n",
    "- First contact success is low, and follow-up (i.e., repeated engagement) likely improves conversion."
   ]
  },
  {
   "cell_type": "markdown",
   "id": "f8f9ff9a",
   "metadata": {},
   "source": [
    "To find clients who were never contacted before and were not contacted in the current campaign, we need to examine both previous and pdays (if available) or just previous and contact depending on what's in our dataset.\n",
    "\n",
    "### Can we derive \"Never Contacted\" or \"Least Contacted\"\n",
    "\n",
    "A client can be considered never contacted if:\n",
    "\n",
    "- `previous == 0` → No prior campaign contact\n",
    "- `pdays == 999` → Not contacted in the last campaign\n",
    "- `poutcome == 'nonexistent'` → No outcome from previous campaign (means no previous attempt)"
   ]
  },
  {
   "cell_type": "code",
   "execution_count": 23,
   "id": "ac92c95b",
   "metadata": {},
   "outputs": [],
   "source": [
    "never_or_least_contacted = df[\n",
    "    (df['previous'] == 0) &\n",
    "    (df['pdays'] == 999) &\n",
    "    (df['poutcome'] == 'nonexistent') \n",
    "]"
   ]
  },
  {
   "cell_type": "code",
   "execution_count": 25,
   "id": "95d52353",
   "metadata": {},
   "outputs": [
    {
     "data": {
      "text/html": [
       "<div>\n",
       "<style scoped>\n",
       "    .dataframe tbody tr th:only-of-type {\n",
       "        vertical-align: middle;\n",
       "    }\n",
       "\n",
       "    .dataframe tbody tr th {\n",
       "        vertical-align: top;\n",
       "    }\n",
       "\n",
       "    .dataframe thead th {\n",
       "        text-align: right;\n",
       "    }\n",
       "</style>\n",
       "<table border=\"1\" class=\"dataframe\">\n",
       "  <thead>\n",
       "    <tr style=\"text-align: right;\">\n",
       "      <th></th>\n",
       "      <th>age</th>\n",
       "      <th>job</th>\n",
       "      <th>marital</th>\n",
       "      <th>education</th>\n",
       "      <th>default</th>\n",
       "      <th>housing</th>\n",
       "      <th>loan</th>\n",
       "      <th>contact</th>\n",
       "      <th>month</th>\n",
       "      <th>day_of_week</th>\n",
       "      <th>...</th>\n",
       "      <th>campaign</th>\n",
       "      <th>pdays</th>\n",
       "      <th>previous</th>\n",
       "      <th>poutcome</th>\n",
       "      <th>emp.var.rate</th>\n",
       "      <th>cons.price.idx</th>\n",
       "      <th>cons.conf.idx</th>\n",
       "      <th>euribor3m</th>\n",
       "      <th>nr.employed</th>\n",
       "      <th>y</th>\n",
       "    </tr>\n",
       "  </thead>\n",
       "  <tbody>\n",
       "    <tr>\n",
       "      <th>0</th>\n",
       "      <td>56</td>\n",
       "      <td>housemaid</td>\n",
       "      <td>married</td>\n",
       "      <td>basic.4y</td>\n",
       "      <td>no</td>\n",
       "      <td>no</td>\n",
       "      <td>no</td>\n",
       "      <td>telephone</td>\n",
       "      <td>may</td>\n",
       "      <td>mon</td>\n",
       "      <td>...</td>\n",
       "      <td>1</td>\n",
       "      <td>999</td>\n",
       "      <td>0</td>\n",
       "      <td>nonexistent</td>\n",
       "      <td>1.1</td>\n",
       "      <td>93.994</td>\n",
       "      <td>-36.4</td>\n",
       "      <td>4.857</td>\n",
       "      <td>5191.0</td>\n",
       "      <td>no</td>\n",
       "    </tr>\n",
       "    <tr>\n",
       "      <th>1</th>\n",
       "      <td>57</td>\n",
       "      <td>services</td>\n",
       "      <td>married</td>\n",
       "      <td>high.school</td>\n",
       "      <td>unknown</td>\n",
       "      <td>no</td>\n",
       "      <td>no</td>\n",
       "      <td>telephone</td>\n",
       "      <td>may</td>\n",
       "      <td>mon</td>\n",
       "      <td>...</td>\n",
       "      <td>1</td>\n",
       "      <td>999</td>\n",
       "      <td>0</td>\n",
       "      <td>nonexistent</td>\n",
       "      <td>1.1</td>\n",
       "      <td>93.994</td>\n",
       "      <td>-36.4</td>\n",
       "      <td>4.857</td>\n",
       "      <td>5191.0</td>\n",
       "      <td>no</td>\n",
       "    </tr>\n",
       "    <tr>\n",
       "      <th>2</th>\n",
       "      <td>37</td>\n",
       "      <td>services</td>\n",
       "      <td>married</td>\n",
       "      <td>high.school</td>\n",
       "      <td>no</td>\n",
       "      <td>yes</td>\n",
       "      <td>no</td>\n",
       "      <td>telephone</td>\n",
       "      <td>may</td>\n",
       "      <td>mon</td>\n",
       "      <td>...</td>\n",
       "      <td>1</td>\n",
       "      <td>999</td>\n",
       "      <td>0</td>\n",
       "      <td>nonexistent</td>\n",
       "      <td>1.1</td>\n",
       "      <td>93.994</td>\n",
       "      <td>-36.4</td>\n",
       "      <td>4.857</td>\n",
       "      <td>5191.0</td>\n",
       "      <td>no</td>\n",
       "    </tr>\n",
       "    <tr>\n",
       "      <th>3</th>\n",
       "      <td>40</td>\n",
       "      <td>admin.</td>\n",
       "      <td>married</td>\n",
       "      <td>basic.6y</td>\n",
       "      <td>no</td>\n",
       "      <td>no</td>\n",
       "      <td>no</td>\n",
       "      <td>telephone</td>\n",
       "      <td>may</td>\n",
       "      <td>mon</td>\n",
       "      <td>...</td>\n",
       "      <td>1</td>\n",
       "      <td>999</td>\n",
       "      <td>0</td>\n",
       "      <td>nonexistent</td>\n",
       "      <td>1.1</td>\n",
       "      <td>93.994</td>\n",
       "      <td>-36.4</td>\n",
       "      <td>4.857</td>\n",
       "      <td>5191.0</td>\n",
       "      <td>no</td>\n",
       "    </tr>\n",
       "    <tr>\n",
       "      <th>4</th>\n",
       "      <td>56</td>\n",
       "      <td>services</td>\n",
       "      <td>married</td>\n",
       "      <td>high.school</td>\n",
       "      <td>no</td>\n",
       "      <td>no</td>\n",
       "      <td>yes</td>\n",
       "      <td>telephone</td>\n",
       "      <td>may</td>\n",
       "      <td>mon</td>\n",
       "      <td>...</td>\n",
       "      <td>1</td>\n",
       "      <td>999</td>\n",
       "      <td>0</td>\n",
       "      <td>nonexistent</td>\n",
       "      <td>1.1</td>\n",
       "      <td>93.994</td>\n",
       "      <td>-36.4</td>\n",
       "      <td>4.857</td>\n",
       "      <td>5191.0</td>\n",
       "      <td>no</td>\n",
       "    </tr>\n",
       "    <tr>\n",
       "      <th>...</th>\n",
       "      <td>...</td>\n",
       "      <td>...</td>\n",
       "      <td>...</td>\n",
       "      <td>...</td>\n",
       "      <td>...</td>\n",
       "      <td>...</td>\n",
       "      <td>...</td>\n",
       "      <td>...</td>\n",
       "      <td>...</td>\n",
       "      <td>...</td>\n",
       "      <td>...</td>\n",
       "      <td>...</td>\n",
       "      <td>...</td>\n",
       "      <td>...</td>\n",
       "      <td>...</td>\n",
       "      <td>...</td>\n",
       "      <td>...</td>\n",
       "      <td>...</td>\n",
       "      <td>...</td>\n",
       "      <td>...</td>\n",
       "      <td>...</td>\n",
       "    </tr>\n",
       "    <tr>\n",
       "      <th>41181</th>\n",
       "      <td>37</td>\n",
       "      <td>admin.</td>\n",
       "      <td>married</td>\n",
       "      <td>university.degree</td>\n",
       "      <td>no</td>\n",
       "      <td>yes</td>\n",
       "      <td>no</td>\n",
       "      <td>cellular</td>\n",
       "      <td>nov</td>\n",
       "      <td>fri</td>\n",
       "      <td>...</td>\n",
       "      <td>1</td>\n",
       "      <td>999</td>\n",
       "      <td>0</td>\n",
       "      <td>nonexistent</td>\n",
       "      <td>-1.1</td>\n",
       "      <td>94.767</td>\n",
       "      <td>-50.8</td>\n",
       "      <td>1.028</td>\n",
       "      <td>4963.6</td>\n",
       "      <td>yes</td>\n",
       "    </tr>\n",
       "    <tr>\n",
       "      <th>41183</th>\n",
       "      <td>73</td>\n",
       "      <td>retired</td>\n",
       "      <td>married</td>\n",
       "      <td>professional.course</td>\n",
       "      <td>no</td>\n",
       "      <td>yes</td>\n",
       "      <td>no</td>\n",
       "      <td>cellular</td>\n",
       "      <td>nov</td>\n",
       "      <td>fri</td>\n",
       "      <td>...</td>\n",
       "      <td>1</td>\n",
       "      <td>999</td>\n",
       "      <td>0</td>\n",
       "      <td>nonexistent</td>\n",
       "      <td>-1.1</td>\n",
       "      <td>94.767</td>\n",
       "      <td>-50.8</td>\n",
       "      <td>1.028</td>\n",
       "      <td>4963.6</td>\n",
       "      <td>yes</td>\n",
       "    </tr>\n",
       "    <tr>\n",
       "      <th>41184</th>\n",
       "      <td>46</td>\n",
       "      <td>blue-collar</td>\n",
       "      <td>married</td>\n",
       "      <td>professional.course</td>\n",
       "      <td>no</td>\n",
       "      <td>no</td>\n",
       "      <td>no</td>\n",
       "      <td>cellular</td>\n",
       "      <td>nov</td>\n",
       "      <td>fri</td>\n",
       "      <td>...</td>\n",
       "      <td>1</td>\n",
       "      <td>999</td>\n",
       "      <td>0</td>\n",
       "      <td>nonexistent</td>\n",
       "      <td>-1.1</td>\n",
       "      <td>94.767</td>\n",
       "      <td>-50.8</td>\n",
       "      <td>1.028</td>\n",
       "      <td>4963.6</td>\n",
       "      <td>no</td>\n",
       "    </tr>\n",
       "    <tr>\n",
       "      <th>41185</th>\n",
       "      <td>56</td>\n",
       "      <td>retired</td>\n",
       "      <td>married</td>\n",
       "      <td>university.degree</td>\n",
       "      <td>no</td>\n",
       "      <td>yes</td>\n",
       "      <td>no</td>\n",
       "      <td>cellular</td>\n",
       "      <td>nov</td>\n",
       "      <td>fri</td>\n",
       "      <td>...</td>\n",
       "      <td>2</td>\n",
       "      <td>999</td>\n",
       "      <td>0</td>\n",
       "      <td>nonexistent</td>\n",
       "      <td>-1.1</td>\n",
       "      <td>94.767</td>\n",
       "      <td>-50.8</td>\n",
       "      <td>1.028</td>\n",
       "      <td>4963.6</td>\n",
       "      <td>no</td>\n",
       "    </tr>\n",
       "    <tr>\n",
       "      <th>41186</th>\n",
       "      <td>44</td>\n",
       "      <td>technician</td>\n",
       "      <td>married</td>\n",
       "      <td>professional.course</td>\n",
       "      <td>no</td>\n",
       "      <td>no</td>\n",
       "      <td>no</td>\n",
       "      <td>cellular</td>\n",
       "      <td>nov</td>\n",
       "      <td>fri</td>\n",
       "      <td>...</td>\n",
       "      <td>1</td>\n",
       "      <td>999</td>\n",
       "      <td>0</td>\n",
       "      <td>nonexistent</td>\n",
       "      <td>-1.1</td>\n",
       "      <td>94.767</td>\n",
       "      <td>-50.8</td>\n",
       "      <td>1.028</td>\n",
       "      <td>4963.6</td>\n",
       "      <td>yes</td>\n",
       "    </tr>\n",
       "  </tbody>\n",
       "</table>\n",
       "<p>35563 rows × 21 columns</p>\n",
       "</div>"
      ],
      "text/plain": [
       "       age          job  marital            education  default housing loan  \\\n",
       "0       56    housemaid  married             basic.4y       no      no   no   \n",
       "1       57     services  married          high.school  unknown      no   no   \n",
       "2       37     services  married          high.school       no     yes   no   \n",
       "3       40       admin.  married             basic.6y       no      no   no   \n",
       "4       56     services  married          high.school       no      no  yes   \n",
       "...    ...          ...      ...                  ...      ...     ...  ...   \n",
       "41181   37       admin.  married    university.degree       no     yes   no   \n",
       "41183   73      retired  married  professional.course       no     yes   no   \n",
       "41184   46  blue-collar  married  professional.course       no      no   no   \n",
       "41185   56      retired  married    university.degree       no     yes   no   \n",
       "41186   44   technician  married  professional.course       no      no   no   \n",
       "\n",
       "         contact month day_of_week  ...  campaign  pdays  previous  \\\n",
       "0      telephone   may         mon  ...         1    999         0   \n",
       "1      telephone   may         mon  ...         1    999         0   \n",
       "2      telephone   may         mon  ...         1    999         0   \n",
       "3      telephone   may         mon  ...         1    999         0   \n",
       "4      telephone   may         mon  ...         1    999         0   \n",
       "...          ...   ...         ...  ...       ...    ...       ...   \n",
       "41181   cellular   nov         fri  ...         1    999         0   \n",
       "41183   cellular   nov         fri  ...         1    999         0   \n",
       "41184   cellular   nov         fri  ...         1    999         0   \n",
       "41185   cellular   nov         fri  ...         2    999         0   \n",
       "41186   cellular   nov         fri  ...         1    999         0   \n",
       "\n",
       "          poutcome emp.var.rate  cons.price.idx  cons.conf.idx  euribor3m  \\\n",
       "0      nonexistent          1.1          93.994          -36.4      4.857   \n",
       "1      nonexistent          1.1          93.994          -36.4      4.857   \n",
       "2      nonexistent          1.1          93.994          -36.4      4.857   \n",
       "3      nonexistent          1.1          93.994          -36.4      4.857   \n",
       "4      nonexistent          1.1          93.994          -36.4      4.857   \n",
       "...            ...          ...             ...            ...        ...   \n",
       "41181  nonexistent         -1.1          94.767          -50.8      1.028   \n",
       "41183  nonexistent         -1.1          94.767          -50.8      1.028   \n",
       "41184  nonexistent         -1.1          94.767          -50.8      1.028   \n",
       "41185  nonexistent         -1.1          94.767          -50.8      1.028   \n",
       "41186  nonexistent         -1.1          94.767          -50.8      1.028   \n",
       "\n",
       "       nr.employed    y  \n",
       "0           5191.0   no  \n",
       "1           5191.0   no  \n",
       "2           5191.0   no  \n",
       "3           5191.0   no  \n",
       "4           5191.0   no  \n",
       "...            ...  ...  \n",
       "41181       4963.6  yes  \n",
       "41183       4963.6  yes  \n",
       "41184       4963.6   no  \n",
       "41185       4963.6   no  \n",
       "41186       4963.6  yes  \n",
       "\n",
       "[35563 rows x 21 columns]"
      ]
     },
     "execution_count": 25,
     "metadata": {},
     "output_type": "execute_result"
    }
   ],
   "source": [
    "never_or_least_contacted"
   ]
  },
  {
   "cell_type": "code",
   "execution_count": 27,
   "id": "4563f7ed",
   "metadata": {},
   "outputs": [
    {
     "name": "stdout",
     "output_type": "stream",
     "text": [
      "Number of never-contacted or least-contacted clients: 35563\n",
      "no     0.911678\n",
      "yes    0.088322\n",
      "Name: y, dtype: float64\n"
     ]
    }
   ],
   "source": [
    "print(f\"Number of never-contacted or least-contacted clients: {len(never_or_least_contacted)}\")\n",
    "print(never_or_least_contacted['y'].value_counts(normalize=True))"
   ]
  },
  {
   "cell_type": "markdown",
   "id": "1b34813e",
   "metadata": {},
   "source": [
    "## Findings from Client Contact History Analysis\n",
    "This dataset is campaign-based, meaning each record reflects a contact made to a client during a specific marketing campaign. While columns like previous, pdays, and poutcome are often used to infer contact history, their interpretation requires care:\n",
    "- `pdays = 999` indicates the client was not contacted in the most recent campaign, but they may have been reached in the past. This value suggests the client hasn't been engaged recently and may still be a relevant target for future sales.\n",
    "- `poutcome = 'nonexistent'` does not mean the client was never contacted; it indicates that no clear result (like success or failure) was recorded from a prior campaign. It could mean the client was contacted but hasn’t yet made a decision.\n",
    "\n",
    "Therefore, clients with pdays = 999 and poutcome = 'nonexistent' are not necessarily \"untouched\" customers, but rather those with unclear or outdated history. \n",
    "While they may be valuable for sales follow-up, ***they are less useful for training machine learning classification models***, which rely on recent and well-defined outcomes to learn patterns."
   ]
  },
  {
   "cell_type": "markdown",
   "id": "044b6ac3",
   "metadata": {},
   "source": [
    "## Check for Class Imbalance"
   ]
  },
  {
   "cell_type": "markdown",
   "id": "fb594ba5",
   "metadata": {},
   "source": [
    "Typical thresholds:\n",
    "- Balanced: Class ratio ~50:50\n",
    "- Mildly imbalanced: 60:40\n",
    "- Moderately imbalanced: 70:30\n",
    "- Heavily imbalanced: 80:20 or worse"
   ]
  },
  {
   "cell_type": "code",
   "execution_count": 28,
   "id": "2ccda405",
   "metadata": {},
   "outputs": [],
   "source": [
    "# Filter to keep only clients with meaningful past interaction\n",
    "filtered_df = df[\n",
    "    ~((df['previous'] == 0) & (df['pdays'] == 999) & (df['poutcome'] == 'nonexistent'))\n",
    "]"
   ]
  },
  {
   "cell_type": "code",
   "execution_count": 29,
   "id": "e5c80e8c",
   "metadata": {},
   "outputs": [
    {
     "data": {
      "text/plain": [
       "no     0.733511\n",
       "yes    0.266489\n",
       "Name: y, dtype: float64"
      ]
     },
     "execution_count": 29,
     "metadata": {},
     "output_type": "execute_result"
    }
   ],
   "source": [
    "filtered_df['y'].value_counts(normalize=True)"
   ]
  },
  {
   "cell_type": "code",
   "execution_count": 30,
   "id": "67e067b4",
   "metadata": {},
   "outputs": [
    {
     "data": {
      "image/png": "[encoded data removed]",
      "text/plain": [
       "<Figure size 432x288 with 1 Axes>"
      ]
     },
     "metadata": {
      "needs_background": "light"
     },
     "output_type": "display_data"
    }
   ],
   "source": [
    "import seaborn as sns\n",
    "import matplotlib.pyplot as plt\n",
    "\n",
    "sns.countplot(data=filtered_df, x='y')\n",
    "plt.title(\"Target Variable Distribution After Filtering\")\n",
    "plt.show()"
   ]
  },
  {
   "cell_type": "code",
   "execution_count": null,
   "id": "047c226e",
   "metadata": {},
   "outputs": [],
   "source": []
  }
 ],
 "metadata": {
  "kernelspec": {
   "display_name": "geo_pandas",
   "language": "python",
   "name": "geo_pandas"
  },
  "language_info": {
   "codemirror_mode": {
    "name": "ipython",
    "version": 3
   },
   "file_extension": ".py",
   "mimetype": "text/x-python",
   "name": "python",
   "nbconvert_exporter": "python",
   "pygments_lexer": "ipython3",
   "version": "3.10.5"
  }
 },
 "nbformat": 4,
 "nbformat_minor": 5
}
